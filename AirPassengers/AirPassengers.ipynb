{
 "cells": [
  {
   "cell_type": "markdown",
   "id": "c19bba26-6624-44e4-b356-d9232d985ac5",
   "metadata": {},
   "source": [
    "# Time Series Analysis of Monthly Airline Passengers (1949–1960)\n",
    "\n",
    "**Objective:** Analyze trends, seasonality, and forecasting patterns in the monthly international airline passengers dataset to derive actionable insights and apply time series modeling techniques."
   ]
  },
  {
   "cell_type": "code",
   "execution_count": 194,
   "id": "619346a0-9ea7-49bf-af7b-933c646c728c",
   "metadata": {},
   "outputs": [],
   "source": [
    "import pandas as pd\n",
    "import numpy as np\n",
    "import seaborn as sns\n",
    "import matplotlib.pyplot as plt\n",
    "import plotly.express as px\n",
    "import plotly.io as pio\n",
    "pio.renderers.default = 'notebook'  # Configure Plotly to display figures in the notebook\n",
    "from statsmodels.graphics.tsaplots import plot_acf\n",
    "from statsmodels.graphics.tsaplots import plot_pacf\n",
    "from statsmodels.tsa.stattools import adfuller # Augmented Dickey-Fuller (ADF) test\n",
    "from statsmodels.tsa.stattools import kpss # Kwiatkowski-Phillips-Schmidt-Shin (KPSS) test\n",
    "from statsmodels.tsa.ar_model import ar_select_order, AutoReg\n",
    "\n",
    "from statsmodels.tsa.arima.model import ARIMA\n"
   ]
  },
  {
   "cell_type": "markdown",
   "id": "1dd9a00b-16bf-464d-bf43-515ecfd38e12",
   "metadata": {},
   "source": [
    "We load the dataset and parse the 'Month' column as datetime, and check for the Na values.\n"
   ]
  },
  {
   "cell_type": "code",
   "execution_count": 212,
   "id": "5c9e45a9-5997-44b6-b064-bc987564b324",
   "metadata": {},
   "outputs": [
    {
     "data": {
      "text/html": [
       "<div>\n",
       "<style scoped>\n",
       "    .dataframe tbody tr th:only-of-type {\n",
       "        vertical-align: middle;\n",
       "    }\n",
       "\n",
       "    .dataframe tbody tr th {\n",
       "        vertical-align: top;\n",
       "    }\n",
       "\n",
       "    .dataframe thead th {\n",
       "        text-align: right;\n",
       "    }\n",
       "</style>\n",
       "<table border=\"1\" class=\"dataframe\">\n",
       "  <thead>\n",
       "    <tr style=\"text-align: right;\">\n",
       "      <th></th>\n",
       "      <th>Month</th>\n",
       "      <th>#Passengers</th>\n",
       "    </tr>\n",
       "  </thead>\n",
       "  <tbody>\n",
       "    <tr>\n",
       "      <th>0</th>\n",
       "      <td>1949-01</td>\n",
       "      <td>112</td>\n",
       "    </tr>\n",
       "    <tr>\n",
       "      <th>1</th>\n",
       "      <td>1949-02</td>\n",
       "      <td>118</td>\n",
       "    </tr>\n",
       "    <tr>\n",
       "      <th>2</th>\n",
       "      <td>1949-03</td>\n",
       "      <td>132</td>\n",
       "    </tr>\n",
       "    <tr>\n",
       "      <th>3</th>\n",
       "      <td>1949-04</td>\n",
       "      <td>129</td>\n",
       "    </tr>\n",
       "    <tr>\n",
       "      <th>4</th>\n",
       "      <td>1949-05</td>\n",
       "      <td>121</td>\n",
       "    </tr>\n",
       "  </tbody>\n",
       "</table>\n",
       "</div>"
      ],
      "text/plain": [
       "     Month  #Passengers\n",
       "0  1949-01          112\n",
       "1  1949-02          118\n",
       "2  1949-03          132\n",
       "3  1949-04          129\n",
       "4  1949-05          121"
      ]
     },
     "execution_count": 212,
     "metadata": {},
     "output_type": "execute_result"
    }
   ],
   "source": [
    "df = pd.read_csv(\"AirPassengers.csv\")\n",
    "df.head()"
   ]
  },
  {
   "cell_type": "code",
   "execution_count": 213,
   "id": "7bc5b8e9-3680-4109-8727-37d89f4efd60",
   "metadata": {},
   "outputs": [
    {
     "data": {
      "text/plain": [
       "Month          0\n",
       "#Passengers    0\n",
       "dtype: int64"
      ]
     },
     "execution_count": 213,
     "metadata": {},
     "output_type": "execute_result"
    }
   ],
   "source": [
    "df.isna().sum()"
   ]
  },
  {
   "cell_type": "code",
   "execution_count": 214,
   "id": "76c1e0df-7966-43a0-bb7a-2d0115e20a41",
   "metadata": {},
   "outputs": [
    {
     "data": {
      "text/html": [
       "<div>\n",
       "<style scoped>\n",
       "    .dataframe tbody tr th:only-of-type {\n",
       "        vertical-align: middle;\n",
       "    }\n",
       "\n",
       "    .dataframe tbody tr th {\n",
       "        vertical-align: top;\n",
       "    }\n",
       "\n",
       "    .dataframe thead th {\n",
       "        text-align: right;\n",
       "    }\n",
       "</style>\n",
       "<table border=\"1\" class=\"dataframe\">\n",
       "  <thead>\n",
       "    <tr style=\"text-align: right;\">\n",
       "      <th></th>\n",
       "      <th>Date</th>\n",
       "      <th>Passengers</th>\n",
       "    </tr>\n",
       "  </thead>\n",
       "  <tbody>\n",
       "    <tr>\n",
       "      <th>0</th>\n",
       "      <td>1949-01-01</td>\n",
       "      <td>112</td>\n",
       "    </tr>\n",
       "    <tr>\n",
       "      <th>1</th>\n",
       "      <td>1949-02-01</td>\n",
       "      <td>118</td>\n",
       "    </tr>\n",
       "    <tr>\n",
       "      <th>2</th>\n",
       "      <td>1949-03-01</td>\n",
       "      <td>132</td>\n",
       "    </tr>\n",
       "    <tr>\n",
       "      <th>3</th>\n",
       "      <td>1949-04-01</td>\n",
       "      <td>129</td>\n",
       "    </tr>\n",
       "    <tr>\n",
       "      <th>4</th>\n",
       "      <td>1949-05-01</td>\n",
       "      <td>121</td>\n",
       "    </tr>\n",
       "  </tbody>\n",
       "</table>\n",
       "</div>"
      ],
      "text/plain": [
       "        Date  Passengers\n",
       "0 1949-01-01         112\n",
       "1 1949-02-01         118\n",
       "2 1949-03-01         132\n",
       "3 1949-04-01         129\n",
       "4 1949-05-01         121"
      ]
     },
     "execution_count": 214,
     "metadata": {},
     "output_type": "execute_result"
    }
   ],
   "source": [
    "df['Month'] = pd.to_datetime(df['Month'], format = '%Y-%m')\n",
    "df.rename(columns = {'Month' : 'Date', '#Passengers' : 'Passengers' }, inplace=True)\n",
    "df.head()"
   ]
  },
  {
   "cell_type": "markdown",
   "id": "ccd1dde5-387c-4fc6-be23-d7cc264513a1",
   "metadata": {},
   "source": [
    "### Monthly Passenger Trend (1949–1960)\n",
    "\n",
    "The interactive line chart below visualizes the monthly number of international airline passengers from 1949 to 1960. This visualization allows us to:\n",
    "\n",
    "- Identify long-term trends,\n",
    "- Observe seasonal patterns,\n",
    "- Detect periods of accelerated or reduced growth.\n"
   ]
  },
  {
   "cell_type": "code",
   "execution_count": 215,
   "id": "ee20b5be-9fd2-41c2-b585-a48c1a62ee10",
   "metadata": {},
   "outputs": [
    {
     "data": {
      "text/html": [
       "<div>            <script src=\"https://cdnjs.cloudflare.com/ajax/libs/mathjax/2.7.5/MathJax.js?config=TeX-AMS-MML_SVG\"></script><script type=\"text/javascript\">if (window.MathJax && window.MathJax.Hub && window.MathJax.Hub.Config) {window.MathJax.Hub.Config({SVG: {font: \"STIX-Web\"}});}</script>                    <div id=\"cfeb0428-cb83-4e3d-b9c1-c67b28043d99\" class=\"plotly-graph-div\" style=\"height:525px; width:100%;\"></div>            <script type=\"text/javascript\">                window.PLOTLYENV=window.PLOTLYENV || {};                                if (document.getElementById(\"cfeb0428-cb83-4e3d-b9c1-c67b28043d99\")) {                    Plotly.newPlot(                        \"cfeb0428-cb83-4e3d-b9c1-c67b28043d99\",                        [{\"hovertemplate\":\"Date=%{x}\\u003cbr\\u003ePassengers=%{y}\\u003cextra\\u003e\\u003c\\u002fextra\\u003e\",\"legendgroup\":\"\",\"line\":{\"color\":\"#636efa\",\"dash\":\"solid\"},\"marker\":{\"symbol\":\"circle\"},\"mode\":\"lines\",\"name\":\"\",\"orientation\":\"v\",\"showlegend\":false,\"x\":[\"1949-01-01T00:00:00.000000000\",\"1949-02-01T00:00:00.000000000\",\"1949-03-01T00:00:00.000000000\",\"1949-04-01T00:00:00.000000000\",\"1949-05-01T00:00:00.000000000\",\"1949-06-01T00:00:00.000000000\",\"1949-07-01T00:00:00.000000000\",\"1949-08-01T00:00:00.000000000\",\"1949-09-01T00:00:00.000000000\",\"1949-10-01T00:00:00.000000000\",\"1949-11-01T00:00:00.000000000\",\"1949-12-01T00:00:00.000000000\",\"1950-01-01T00:00:00.000000000\",\"1950-02-01T00:00:00.000000000\",\"1950-03-01T00:00:00.000000000\",\"1950-04-01T00:00:00.000000000\",\"1950-05-01T00:00:00.000000000\",\"1950-06-01T00:00:00.000000000\",\"1950-07-01T00:00:00.000000000\",\"1950-08-01T00:00:00.000000000\",\"1950-09-01T00:00:00.000000000\",\"1950-10-01T00:00:00.000000000\",\"1950-11-01T00:00:00.000000000\",\"1950-12-01T00:00:00.000000000\",\"1951-01-01T00:00:00.000000000\",\"1951-02-01T00:00:00.000000000\",\"1951-03-01T00:00:00.000000000\",\"1951-04-01T00:00:00.000000000\",\"1951-05-01T00:00:00.000000000\",\"1951-06-01T00:00:00.000000000\",\"1951-07-01T00:00:00.000000000\",\"1951-08-01T00:00:00.000000000\",\"1951-09-01T00:00:00.000000000\",\"1951-10-01T00:00:00.000000000\",\"1951-11-01T00:00:00.000000000\",\"1951-12-01T00:00:00.000000000\",\"1952-01-01T00:00:00.000000000\",\"1952-02-01T00:00:00.000000000\",\"1952-03-01T00:00:00.000000000\",\"1952-04-01T00:00:00.000000000\",\"1952-05-01T00:00:00.000000000\",\"1952-06-01T00:00:00.000000000\",\"1952-07-01T00:00:00.000000000\",\"1952-08-01T00:00:00.000000000\",\"1952-09-01T00:00:00.000000000\",\"1952-10-01T00:00:00.000000000\",\"1952-11-01T00:00:00.000000000\",\"1952-12-01T00:00:00.000000000\",\"1953-01-01T00:00:00.000000000\",\"1953-02-01T00:00:00.000000000\",\"1953-03-01T00:00:00.000000000\",\"1953-04-01T00:00:00.000000000\",\"1953-05-01T00:00:00.000000000\",\"1953-06-01T00:00:00.000000000\",\"1953-07-01T00:00:00.000000000\",\"1953-08-01T00:00:00.000000000\",\"1953-09-01T00:00:00.000000000\",\"1953-10-01T00:00:00.000000000\",\"1953-11-01T00:00:00.000000000\",\"1953-12-01T00:00:00.000000000\",\"1954-01-01T00:00:00.000000000\",\"1954-02-01T00:00:00.000000000\",\"1954-03-01T00:00:00.000000000\",\"1954-04-01T00:00:00.000000000\",\"1954-05-01T00:00:00.000000000\",\"1954-06-01T00:00:00.000000000\",\"1954-07-01T00:00:00.000000000\",\"1954-08-01T00:00:00.000000000\",\"1954-09-01T00:00:00.000000000\",\"1954-10-01T00:00:00.000000000\",\"1954-11-01T00:00:00.000000000\",\"1954-12-01T00:00:00.000000000\",\"1955-01-01T00:00:00.000000000\",\"1955-02-01T00:00:00.000000000\",\"1955-03-01T00:00:00.000000000\",\"1955-04-01T00:00:00.000000000\",\"1955-05-01T00:00:00.000000000\",\"1955-06-01T00:00:00.000000000\",\"1955-07-01T00:00:00.000000000\",\"1955-08-01T00:00:00.000000000\",\"1955-09-01T00:00:00.000000000\",\"1955-10-01T00:00:00.000000000\",\"1955-11-01T00:00:00.000000000\",\"1955-12-01T00:00:00.000000000\",\"1956-01-01T00:00:00.000000000\",\"1956-02-01T00:00:00.000000000\",\"1956-03-01T00:00:00.000000000\",\"1956-04-01T00:00:00.000000000\",\"1956-05-01T00:00:00.000000000\",\"1956-06-01T00:00:00.000000000\",\"1956-07-01T00:00:00.000000000\",\"1956-08-01T00:00:00.000000000\",\"1956-09-01T00:00:00.000000000\",\"1956-10-01T00:00:00.000000000\",\"1956-11-01T00:00:00.000000000\",\"1956-12-01T00:00:00.000000000\",\"1957-01-01T00:00:00.000000000\",\"1957-02-01T00:00:00.000000000\",\"1957-03-01T00:00:00.000000000\",\"1957-04-01T00:00:00.000000000\",\"1957-05-01T00:00:00.000000000\",\"1957-06-01T00:00:00.000000000\",\"1957-07-01T00:00:00.000000000\",\"1957-08-01T00:00:00.000000000\",\"1957-09-01T00:00:00.000000000\",\"1957-10-01T00:00:00.000000000\",\"1957-11-01T00:00:00.000000000\",\"1957-12-01T00:00:00.000000000\",\"1958-01-01T00:00:00.000000000\",\"1958-02-01T00:00:00.000000000\",\"1958-03-01T00:00:00.000000000\",\"1958-04-01T00:00:00.000000000\",\"1958-05-01T00:00:00.000000000\",\"1958-06-01T00:00:00.000000000\",\"1958-07-01T00:00:00.000000000\",\"1958-08-01T00:00:00.000000000\",\"1958-09-01T00:00:00.000000000\",\"1958-10-01T00:00:00.000000000\",\"1958-11-01T00:00:00.000000000\",\"1958-12-01T00:00:00.000000000\",\"1959-01-01T00:00:00.000000000\",\"1959-02-01T00:00:00.000000000\",\"1959-03-01T00:00:00.000000000\",\"1959-04-01T00:00:00.000000000\",\"1959-05-01T00:00:00.000000000\",\"1959-06-01T00:00:00.000000000\",\"1959-07-01T00:00:00.000000000\",\"1959-08-01T00:00:00.000000000\",\"1959-09-01T00:00:00.000000000\",\"1959-10-01T00:00:00.000000000\",\"1959-11-01T00:00:00.000000000\",\"1959-12-01T00:00:00.000000000\",\"1960-01-01T00:00:00.000000000\",\"1960-02-01T00:00:00.000000000\",\"1960-03-01T00:00:00.000000000\",\"1960-04-01T00:00:00.000000000\",\"1960-05-01T00:00:00.000000000\",\"1960-06-01T00:00:00.000000000\",\"1960-07-01T00:00:00.000000000\",\"1960-08-01T00:00:00.000000000\",\"1960-09-01T00:00:00.000000000\",\"1960-10-01T00:00:00.000000000\",\"1960-11-01T00:00:00.000000000\",\"1960-12-01T00:00:00.000000000\"],\"xaxis\":\"x\",\"y\":{\"dtype\":\"i2\",\"bdata\":\"cAB2AIQAgQB5AIcAlACUAIgAdwBoAHYAcwB+AI0AhwB9AJUAqgCqAJ4AhQByAIwAkQCWALIAowCsALIAxwDHALgAogCSAKYAqwC0AMEAtQC3ANoA5gDyANEAvwCsAMIAxADEAOwA6wDlAPMACAEQAe0A0wC0AMkAzAC8AOsA4wDqAAgBLgElAQMB5QDLAOUA8gDpAAsBDQEOATsBbAFbATgBEgHtABYBHAEVAT0BOQE+AXYBnQGVAWMBMgEPATIBOwEtAWQBXAFjAaYB0QHTAZQBWwExAVABVAE+AWoBXAFrAbMB6wH5AZQBZwE2AVEBaAFWAZYBjAGkAdgBJAIvAs8BlwFqAZUBoQGHAaMBzQHYARcCbgJeAvwBzQGGAbAB\"},\"yaxis\":\"y\",\"type\":\"scatter\"}],                        {\"template\":{\"data\":{\"histogram2dcontour\":[{\"type\":\"histogram2dcontour\",\"colorbar\":{\"outlinewidth\":0,\"ticks\":\"\"},\"colorscale\":[[0.0,\"#0d0887\"],[0.1111111111111111,\"#46039f\"],[0.2222222222222222,\"#7201a8\"],[0.3333333333333333,\"#9c179e\"],[0.4444444444444444,\"#bd3786\"],[0.5555555555555556,\"#d8576b\"],[0.6666666666666666,\"#ed7953\"],[0.7777777777777778,\"#fb9f3a\"],[0.8888888888888888,\"#fdca26\"],[1.0,\"#f0f921\"]]}],\"choropleth\":[{\"type\":\"choropleth\",\"colorbar\":{\"outlinewidth\":0,\"ticks\":\"\"}}],\"histogram2d\":[{\"type\":\"histogram2d\",\"colorbar\":{\"outlinewidth\":0,\"ticks\":\"\"},\"colorscale\":[[0.0,\"#0d0887\"],[0.1111111111111111,\"#46039f\"],[0.2222222222222222,\"#7201a8\"],[0.3333333333333333,\"#9c179e\"],[0.4444444444444444,\"#bd3786\"],[0.5555555555555556,\"#d8576b\"],[0.6666666666666666,\"#ed7953\"],[0.7777777777777778,\"#fb9f3a\"],[0.8888888888888888,\"#fdca26\"],[1.0,\"#f0f921\"]]}],\"heatmap\":[{\"type\":\"heatmap\",\"colorbar\":{\"outlinewidth\":0,\"ticks\":\"\"},\"colorscale\":[[0.0,\"#0d0887\"],[0.1111111111111111,\"#46039f\"],[0.2222222222222222,\"#7201a8\"],[0.3333333333333333,\"#9c179e\"],[0.4444444444444444,\"#bd3786\"],[0.5555555555555556,\"#d8576b\"],[0.6666666666666666,\"#ed7953\"],[0.7777777777777778,\"#fb9f3a\"],[0.8888888888888888,\"#fdca26\"],[1.0,\"#f0f921\"]]}],\"contourcarpet\":[{\"type\":\"contourcarpet\",\"colorbar\":{\"outlinewidth\":0,\"ticks\":\"\"}}],\"contour\":[{\"type\":\"contour\",\"colorbar\":{\"outlinewidth\":0,\"ticks\":\"\"},\"colorscale\":[[0.0,\"#0d0887\"],[0.1111111111111111,\"#46039f\"],[0.2222222222222222,\"#7201a8\"],[0.3333333333333333,\"#9c179e\"],[0.4444444444444444,\"#bd3786\"],[0.5555555555555556,\"#d8576b\"],[0.6666666666666666,\"#ed7953\"],[0.7777777777777778,\"#fb9f3a\"],[0.8888888888888888,\"#fdca26\"],[1.0,\"#f0f921\"]]}],\"surface\":[{\"type\":\"surface\",\"colorbar\":{\"outlinewidth\":0,\"ticks\":\"\"},\"colorscale\":[[0.0,\"#0d0887\"],[0.1111111111111111,\"#46039f\"],[0.2222222222222222,\"#7201a8\"],[0.3333333333333333,\"#9c179e\"],[0.4444444444444444,\"#bd3786\"],[0.5555555555555556,\"#d8576b\"],[0.6666666666666666,\"#ed7953\"],[0.7777777777777778,\"#fb9f3a\"],[0.8888888888888888,\"#fdca26\"],[1.0,\"#f0f921\"]]}],\"mesh3d\":[{\"type\":\"mesh3d\",\"colorbar\":{\"outlinewidth\":0,\"ticks\":\"\"}}],\"scatter\":[{\"fillpattern\":{\"fillmode\":\"overlay\",\"size\":10,\"solidity\":0.2},\"type\":\"scatter\"}],\"parcoords\":[{\"type\":\"parcoords\",\"line\":{\"colorbar\":{\"outlinewidth\":0,\"ticks\":\"\"}}}],\"scatterpolargl\":[{\"type\":\"scatterpolargl\",\"marker\":{\"colorbar\":{\"outlinewidth\":0,\"ticks\":\"\"}}}],\"bar\":[{\"error_x\":{\"color\":\"#2a3f5f\"},\"error_y\":{\"color\":\"#2a3f5f\"},\"marker\":{\"line\":{\"color\":\"#E5ECF6\",\"width\":0.5},\"pattern\":{\"fillmode\":\"overlay\",\"size\":10,\"solidity\":0.2}},\"type\":\"bar\"}],\"scattergeo\":[{\"type\":\"scattergeo\",\"marker\":{\"colorbar\":{\"outlinewidth\":0,\"ticks\":\"\"}}}],\"scatterpolar\":[{\"type\":\"scatterpolar\",\"marker\":{\"colorbar\":{\"outlinewidth\":0,\"ticks\":\"\"}}}],\"histogram\":[{\"marker\":{\"pattern\":{\"fillmode\":\"overlay\",\"size\":10,\"solidity\":0.2}},\"type\":\"histogram\"}],\"scattergl\":[{\"type\":\"scattergl\",\"marker\":{\"colorbar\":{\"outlinewidth\":0,\"ticks\":\"\"}}}],\"scatter3d\":[{\"type\":\"scatter3d\",\"line\":{\"colorbar\":{\"outlinewidth\":0,\"ticks\":\"\"}},\"marker\":{\"colorbar\":{\"outlinewidth\":0,\"ticks\":\"\"}}}],\"scattermap\":[{\"type\":\"scattermap\",\"marker\":{\"colorbar\":{\"outlinewidth\":0,\"ticks\":\"\"}}}],\"scattermapbox\":[{\"type\":\"scattermapbox\",\"marker\":{\"colorbar\":{\"outlinewidth\":0,\"ticks\":\"\"}}}],\"scatterternary\":[{\"type\":\"scatterternary\",\"marker\":{\"colorbar\":{\"outlinewidth\":0,\"ticks\":\"\"}}}],\"scattercarpet\":[{\"type\":\"scattercarpet\",\"marker\":{\"colorbar\":{\"outlinewidth\":0,\"ticks\":\"\"}}}],\"carpet\":[{\"aaxis\":{\"endlinecolor\":\"#2a3f5f\",\"gridcolor\":\"white\",\"linecolor\":\"white\",\"minorgridcolor\":\"white\",\"startlinecolor\":\"#2a3f5f\"},\"baxis\":{\"endlinecolor\":\"#2a3f5f\",\"gridcolor\":\"white\",\"linecolor\":\"white\",\"minorgridcolor\":\"white\",\"startlinecolor\":\"#2a3f5f\"},\"type\":\"carpet\"}],\"table\":[{\"cells\":{\"fill\":{\"color\":\"#EBF0F8\"},\"line\":{\"color\":\"white\"}},\"header\":{\"fill\":{\"color\":\"#C8D4E3\"},\"line\":{\"color\":\"white\"}},\"type\":\"table\"}],\"barpolar\":[{\"marker\":{\"line\":{\"color\":\"#E5ECF6\",\"width\":0.5},\"pattern\":{\"fillmode\":\"overlay\",\"size\":10,\"solidity\":0.2}},\"type\":\"barpolar\"}],\"pie\":[{\"automargin\":true,\"type\":\"pie\"}]},\"layout\":{\"autotypenumbers\":\"strict\",\"colorway\":[\"#636efa\",\"#EF553B\",\"#00cc96\",\"#ab63fa\",\"#FFA15A\",\"#19d3f3\",\"#FF6692\",\"#B6E880\",\"#FF97FF\",\"#FECB52\"],\"font\":{\"color\":\"#2a3f5f\"},\"hovermode\":\"closest\",\"hoverlabel\":{\"align\":\"left\"},\"paper_bgcolor\":\"white\",\"plot_bgcolor\":\"#E5ECF6\",\"polar\":{\"bgcolor\":\"#E5ECF6\",\"angularaxis\":{\"gridcolor\":\"white\",\"linecolor\":\"white\",\"ticks\":\"\"},\"radialaxis\":{\"gridcolor\":\"white\",\"linecolor\":\"white\",\"ticks\":\"\"}},\"ternary\":{\"bgcolor\":\"#E5ECF6\",\"aaxis\":{\"gridcolor\":\"white\",\"linecolor\":\"white\",\"ticks\":\"\"},\"baxis\":{\"gridcolor\":\"white\",\"linecolor\":\"white\",\"ticks\":\"\"},\"caxis\":{\"gridcolor\":\"white\",\"linecolor\":\"white\",\"ticks\":\"\"}},\"coloraxis\":{\"colorbar\":{\"outlinewidth\":0,\"ticks\":\"\"}},\"colorscale\":{\"sequential\":[[0.0,\"#0d0887\"],[0.1111111111111111,\"#46039f\"],[0.2222222222222222,\"#7201a8\"],[0.3333333333333333,\"#9c179e\"],[0.4444444444444444,\"#bd3786\"],[0.5555555555555556,\"#d8576b\"],[0.6666666666666666,\"#ed7953\"],[0.7777777777777778,\"#fb9f3a\"],[0.8888888888888888,\"#fdca26\"],[1.0,\"#f0f921\"]],\"sequentialminus\":[[0.0,\"#0d0887\"],[0.1111111111111111,\"#46039f\"],[0.2222222222222222,\"#7201a8\"],[0.3333333333333333,\"#9c179e\"],[0.4444444444444444,\"#bd3786\"],[0.5555555555555556,\"#d8576b\"],[0.6666666666666666,\"#ed7953\"],[0.7777777777777778,\"#fb9f3a\"],[0.8888888888888888,\"#fdca26\"],[1.0,\"#f0f921\"]],\"diverging\":[[0,\"#8e0152\"],[0.1,\"#c51b7d\"],[0.2,\"#de77ae\"],[0.3,\"#f1b6da\"],[0.4,\"#fde0ef\"],[0.5,\"#f7f7f7\"],[0.6,\"#e6f5d0\"],[0.7,\"#b8e186\"],[0.8,\"#7fbc41\"],[0.9,\"#4d9221\"],[1,\"#276419\"]]},\"xaxis\":{\"gridcolor\":\"white\",\"linecolor\":\"white\",\"ticks\":\"\",\"title\":{\"standoff\":15},\"zerolinecolor\":\"white\",\"automargin\":true,\"zerolinewidth\":2},\"yaxis\":{\"gridcolor\":\"white\",\"linecolor\":\"white\",\"ticks\":\"\",\"title\":{\"standoff\":15},\"zerolinecolor\":\"white\",\"automargin\":true,\"zerolinewidth\":2},\"scene\":{\"xaxis\":{\"backgroundcolor\":\"#E5ECF6\",\"gridcolor\":\"white\",\"linecolor\":\"white\",\"showbackground\":true,\"ticks\":\"\",\"zerolinecolor\":\"white\",\"gridwidth\":2},\"yaxis\":{\"backgroundcolor\":\"#E5ECF6\",\"gridcolor\":\"white\",\"linecolor\":\"white\",\"showbackground\":true,\"ticks\":\"\",\"zerolinecolor\":\"white\",\"gridwidth\":2},\"zaxis\":{\"backgroundcolor\":\"#E5ECF6\",\"gridcolor\":\"white\",\"linecolor\":\"white\",\"showbackground\":true,\"ticks\":\"\",\"zerolinecolor\":\"white\",\"gridwidth\":2}},\"shapedefaults\":{\"line\":{\"color\":\"#2a3f5f\"}},\"annotationdefaults\":{\"arrowcolor\":\"#2a3f5f\",\"arrowhead\":0,\"arrowwidth\":1},\"geo\":{\"bgcolor\":\"white\",\"landcolor\":\"#E5ECF6\",\"subunitcolor\":\"white\",\"showland\":true,\"showlakes\":true,\"lakecolor\":\"white\"},\"title\":{\"x\":0.05},\"mapbox\":{\"style\":\"light\"}}},\"xaxis\":{\"anchor\":\"y\",\"domain\":[0.0,1.0],\"title\":{\"text\":\"Date\"}},\"yaxis\":{\"anchor\":\"x\",\"domain\":[0.0,1.0],\"title\":{\"text\":\"Passengers\"}},\"legend\":{\"tracegroupgap\":0},\"title\":{\"text\":\"Number of Airline Passengers Over Time\"}},                        {\"responsive\": true}                    ).then(function(){\n",
       "                            \n",
       "var gd = document.getElementById('cfeb0428-cb83-4e3d-b9c1-c67b28043d99');\n",
       "var x = new MutationObserver(function (mutations, observer) {{\n",
       "        var display = window.getComputedStyle(gd).display;\n",
       "        if (!display || display === 'none') {{\n",
       "            console.log([gd, 'removed!']);\n",
       "            Plotly.purge(gd);\n",
       "            observer.disconnect();\n",
       "        }}\n",
       "}});\n",
       "\n",
       "// Listen for the removal of the full notebook cells\n",
       "var notebookContainer = gd.closest('#notebook-container');\n",
       "if (notebookContainer) {{\n",
       "    x.observe(notebookContainer, {childList: true});\n",
       "}}\n",
       "\n",
       "// Listen for the clearing of the current output cell\n",
       "var outputEl = gd.closest('.output');\n",
       "if (outputEl) {{\n",
       "    x.observe(outputEl, {childList: true});\n",
       "}}\n",
       "\n",
       "                        })                };            </script>        </div>"
      ]
     },
     "metadata": {},
     "output_type": "display_data"
    }
   ],
   "source": [
    "fig = px.line(df, x = 'Date', y = 'Passengers', title = 'Number of Airline Passengers Over Time')\n",
    "fig.show()"
   ]
  },
  {
   "cell_type": "markdown",
   "id": "a4ab20e1-cb58-45ce-bfa8-17bd8fba16df",
   "metadata": {},
   "source": [
    "### Stationarity\n",
    "Stationarity is an important concept in time series analysis because many useful analytical tools and statistical tests and models rely on it. Stationarity means that the statistical properties such as mean, variance, covariance, and standard deviation do not vary with time, or these statistical properties are not a function of time.  \n",
    "\n",
    "#### For a stationary series,\n",
    "- The mean is constant over time,\n",
    "- The variance is constant over time (no increasing or decreasing spread)\n",
    "- the autocorrelation depends only on the lag, not on the actual time points.\n",
    "\n",
    "\n",
    "We observe a consistent upward trend over the years, along with strong seasonal fluctuations—typically peaking during July and August. Therefore, it can be said that the time series is not stationary. \n",
    "\n",
    "To make the time series stationary we use:\n",
    "\n",
    "-**First Differencing** to remove the long-term increasing pattern,\n",
    "\n",
    "-**Log Transformation** to stabilize variance by compressing higher values more than lower ones.\n"
   ]
  },
  {
   "cell_type": "code",
   "execution_count": 216,
   "id": "33ed1ee0-e9a5-4761-a2a6-9efe10d95943",
   "metadata": {},
   "outputs": [
    {
     "data": {
      "text/html": [
       "<div>            <script src=\"https://cdnjs.cloudflare.com/ajax/libs/mathjax/2.7.5/MathJax.js?config=TeX-AMS-MML_SVG\"></script><script type=\"text/javascript\">if (window.MathJax && window.MathJax.Hub && window.MathJax.Hub.Config) {window.MathJax.Hub.Config({SVG: {font: \"STIX-Web\"}});}</script>                    <div id=\"50378d14-01d5-4b1a-8eb5-34817814dc9c\" class=\"plotly-graph-div\" style=\"height:525px; width:100%;\"></div>            <script type=\"text/javascript\">                window.PLOTLYENV=window.PLOTLYENV || {};                                if (document.getElementById(\"50378d14-01d5-4b1a-8eb5-34817814dc9c\")) {                    Plotly.newPlot(                        \"50378d14-01d5-4b1a-8eb5-34817814dc9c\",                        [{\"hovertemplate\":\"Date=%{x}\\u003cbr\\u003ePassengers\\u003cbr\\u003eDifference Transform=%{y}\\u003cextra\\u003e\\u003c\\u002fextra\\u003e\",\"legendgroup\":\"\",\"line\":{\"color\":\"#636efa\",\"dash\":\"solid\"},\"marker\":{\"symbol\":\"circle\"},\"mode\":\"lines\",\"name\":\"\",\"orientation\":\"v\",\"showlegend\":false,\"x\":[\"1949-01-01T00:00:00.000000000\",\"1949-02-01T00:00:00.000000000\",\"1949-03-01T00:00:00.000000000\",\"1949-04-01T00:00:00.000000000\",\"1949-05-01T00:00:00.000000000\",\"1949-06-01T00:00:00.000000000\",\"1949-07-01T00:00:00.000000000\",\"1949-08-01T00:00:00.000000000\",\"1949-09-01T00:00:00.000000000\",\"1949-10-01T00:00:00.000000000\",\"1949-11-01T00:00:00.000000000\",\"1949-12-01T00:00:00.000000000\",\"1950-01-01T00:00:00.000000000\",\"1950-02-01T00:00:00.000000000\",\"1950-03-01T00:00:00.000000000\",\"1950-04-01T00:00:00.000000000\",\"1950-05-01T00:00:00.000000000\",\"1950-06-01T00:00:00.000000000\",\"1950-07-01T00:00:00.000000000\",\"1950-08-01T00:00:00.000000000\",\"1950-09-01T00:00:00.000000000\",\"1950-10-01T00:00:00.000000000\",\"1950-11-01T00:00:00.000000000\",\"1950-12-01T00:00:00.000000000\",\"1951-01-01T00:00:00.000000000\",\"1951-02-01T00:00:00.000000000\",\"1951-03-01T00:00:00.000000000\",\"1951-04-01T00:00:00.000000000\",\"1951-05-01T00:00:00.000000000\",\"1951-06-01T00:00:00.000000000\",\"1951-07-01T00:00:00.000000000\",\"1951-08-01T00:00:00.000000000\",\"1951-09-01T00:00:00.000000000\",\"1951-10-01T00:00:00.000000000\",\"1951-11-01T00:00:00.000000000\",\"1951-12-01T00:00:00.000000000\",\"1952-01-01T00:00:00.000000000\",\"1952-02-01T00:00:00.000000000\",\"1952-03-01T00:00:00.000000000\",\"1952-04-01T00:00:00.000000000\",\"1952-05-01T00:00:00.000000000\",\"1952-06-01T00:00:00.000000000\",\"1952-07-01T00:00:00.000000000\",\"1952-08-01T00:00:00.000000000\",\"1952-09-01T00:00:00.000000000\",\"1952-10-01T00:00:00.000000000\",\"1952-11-01T00:00:00.000000000\",\"1952-12-01T00:00:00.000000000\",\"1953-01-01T00:00:00.000000000\",\"1953-02-01T00:00:00.000000000\",\"1953-03-01T00:00:00.000000000\",\"1953-04-01T00:00:00.000000000\",\"1953-05-01T00:00:00.000000000\",\"1953-06-01T00:00:00.000000000\",\"1953-07-01T00:00:00.000000000\",\"1953-08-01T00:00:00.000000000\",\"1953-09-01T00:00:00.000000000\",\"1953-10-01T00:00:00.000000000\",\"1953-11-01T00:00:00.000000000\",\"1953-12-01T00:00:00.000000000\",\"1954-01-01T00:00:00.000000000\",\"1954-02-01T00:00:00.000000000\",\"1954-03-01T00:00:00.000000000\",\"1954-04-01T00:00:00.000000000\",\"1954-05-01T00:00:00.000000000\",\"1954-06-01T00:00:00.000000000\",\"1954-07-01T00:00:00.000000000\",\"1954-08-01T00:00:00.000000000\",\"1954-09-01T00:00:00.000000000\",\"1954-10-01T00:00:00.000000000\",\"1954-11-01T00:00:00.000000000\",\"1954-12-01T00:00:00.000000000\",\"1955-01-01T00:00:00.000000000\",\"1955-02-01T00:00:00.000000000\",\"1955-03-01T00:00:00.000000000\",\"1955-04-01T00:00:00.000000000\",\"1955-05-01T00:00:00.000000000\",\"1955-06-01T00:00:00.000000000\",\"1955-07-01T00:00:00.000000000\",\"1955-08-01T00:00:00.000000000\",\"1955-09-01T00:00:00.000000000\",\"1955-10-01T00:00:00.000000000\",\"1955-11-01T00:00:00.000000000\",\"1955-12-01T00:00:00.000000000\",\"1956-01-01T00:00:00.000000000\",\"1956-02-01T00:00:00.000000000\",\"1956-03-01T00:00:00.000000000\",\"1956-04-01T00:00:00.000000000\",\"1956-05-01T00:00:00.000000000\",\"1956-06-01T00:00:00.000000000\",\"1956-07-01T00:00:00.000000000\",\"1956-08-01T00:00:00.000000000\",\"1956-09-01T00:00:00.000000000\",\"1956-10-01T00:00:00.000000000\",\"1956-11-01T00:00:00.000000000\",\"1956-12-01T00:00:00.000000000\",\"1957-01-01T00:00:00.000000000\",\"1957-02-01T00:00:00.000000000\",\"1957-03-01T00:00:00.000000000\",\"1957-04-01T00:00:00.000000000\",\"1957-05-01T00:00:00.000000000\",\"1957-06-01T00:00:00.000000000\",\"1957-07-01T00:00:00.000000000\",\"1957-08-01T00:00:00.000000000\",\"1957-09-01T00:00:00.000000000\",\"1957-10-01T00:00:00.000000000\",\"1957-11-01T00:00:00.000000000\",\"1957-12-01T00:00:00.000000000\",\"1958-01-01T00:00:00.000000000\",\"1958-02-01T00:00:00.000000000\",\"1958-03-01T00:00:00.000000000\",\"1958-04-01T00:00:00.000000000\",\"1958-05-01T00:00:00.000000000\",\"1958-06-01T00:00:00.000000000\",\"1958-07-01T00:00:00.000000000\",\"1958-08-01T00:00:00.000000000\",\"1958-09-01T00:00:00.000000000\",\"1958-10-01T00:00:00.000000000\",\"1958-11-01T00:00:00.000000000\",\"1958-12-01T00:00:00.000000000\",\"1959-01-01T00:00:00.000000000\",\"1959-02-01T00:00:00.000000000\",\"1959-03-01T00:00:00.000000000\",\"1959-04-01T00:00:00.000000000\",\"1959-05-01T00:00:00.000000000\",\"1959-06-01T00:00:00.000000000\",\"1959-07-01T00:00:00.000000000\",\"1959-08-01T00:00:00.000000000\",\"1959-09-01T00:00:00.000000000\",\"1959-10-01T00:00:00.000000000\",\"1959-11-01T00:00:00.000000000\",\"1959-12-01T00:00:00.000000000\",\"1960-01-01T00:00:00.000000000\",\"1960-02-01T00:00:00.000000000\",\"1960-03-01T00:00:00.000000000\",\"1960-04-01T00:00:00.000000000\",\"1960-05-01T00:00:00.000000000\",\"1960-06-01T00:00:00.000000000\",\"1960-07-01T00:00:00.000000000\",\"1960-08-01T00:00:00.000000000\",\"1960-09-01T00:00:00.000000000\",\"1960-10-01T00:00:00.000000000\",\"1960-11-01T00:00:00.000000000\",\"1960-12-01T00:00:00.000000000\"],\"xaxis\":\"x\",\"y\":{\"dtype\":\"f8\",\"bdata\":\"AAAAAAAA+H8AAAAAAAAYQAAAAAAAACxAAAAAAAAACMAAAAAAAAAgwAAAAAAAACxAAAAAAAAAKkAAAAAAAAAAAAAAAAAAACjAAAAAAAAAMcAAAAAAAAAuwAAAAAAAACxAAAAAAAAACMAAAAAAAAAmQAAAAAAAAC5AAAAAAAAAGMAAAAAAAAAkwAAAAAAAADhAAAAAAAAANUAAAAAAAAAAAAAAAAAAACjAAAAAAAAAOcAAAAAAAAAzwAAAAAAAADpAAAAAAAAAFEAAAAAAAAAUQAAAAAAAADxAAAAAAAAALsAAAAAAAAAiQAAAAAAAABhAAAAAAAAANUAAAAAAAAAAAAAAAAAAAC7AAAAAAAAANsAAAAAAAAAwwAAAAAAAADRAAAAAAAAAFEAAAAAAAAAiQAAAAAAAACpAAAAAAAAAKMAAAAAAAAAAQAAAAAAAgEFAAAAAAAAAKEAAAAAAAAAoQAAAAAAAgEDAAAAAAAAAMsAAAAAAAAAzwAAAAAAAADZAAAAAAAAAAEAAAAAAAAAAAAAAAAAAAERAAAAAAAAA8L8AAAAAAAAYwAAAAAAAACxAAAAAAAAANUAAAAAAAAAgQAAAAAAAgEHAAAAAAAAAOsAAAAAAAAA\\u002fwAAAAAAAADVAAAAAAAAACEAAAAAAAAAwwAAAAAAAgEdAAAAAAAAAIMAAAAAAAAAcQAAAAAAAAD5AAAAAAAAAQ0AAAAAAAAAiwAAAAAAAAEHAAAAAAAAAPsAAAAAAAAA6wAAAAAAAADpAAAAAAAAAKkAAAAAAAAAiwAAAAAAAAEFAAAAAAAAAAEAAAAAAAADwPwAAAAAAgEZAAAAAAACASEAAAAAAAAAxwAAAAAAAgEHAAAAAAAAAQ8AAAAAAAIBCwAAAAAAAgERAAAAAAAAAGEAAAAAAAAAcwAAAAAAAAERAAAAAAAAAEMAAAAAAAAAUQAAAAAAAAExAAAAAAACAQ0AAAAAAAAAgwAAAAAAAAEnAAAAAAACASMAAAAAAAIBBwAAAAAAAgEFAAAAAAAAAIkAAAAAAAAAswAAAAAAAgEtAAAAAAAAAIMAAAAAAAAAcQAAAAAAAwFBAAAAAAACARUAAAAAAAAAAQAAAAAAAgE\\u002fAAAAAAACATMAAAAAAAABFwAAAAAAAAD9AAAAAAAAAEEAAAAAAAAA2wAAAAAAAAEZAAAAAAAAALMAAAAAAAAAuQAAAAAAAAFJAAAAAAAAATEAAAAAAAAAsQAAAAAAAQFnAAAAAAACARsAAAAAAAIBIwAAAAAAAADtAAAAAAAAAN0AAAAAAAAAywAAAAAAAAFBAAAAAAAAAJMAAAAAAAAA4QAAAAAAAAEpAAAAAAAAAU0AAAAAAAAAmQAAAAAAAAFjAAAAAAAAATMAAAAAAAIBGwAAAAAAAgEVAAAAAAAAAKEAAAAAAAAA6wAAAAAAAADxAAAAAAAAARUAAAAAAAAAmQAAAAAAAgE9AAAAAAADAVUAAAAAAAAAwwAAAAAAAgFjAAAAAAACAR8AAAAAAAMBRwAAAAAAAAEVA\"},\"yaxis\":\"y\",\"type\":\"scatter\"}],                        {\"template\":{\"data\":{\"histogram2dcontour\":[{\"type\":\"histogram2dcontour\",\"colorbar\":{\"outlinewidth\":0,\"ticks\":\"\"},\"colorscale\":[[0.0,\"#0d0887\"],[0.1111111111111111,\"#46039f\"],[0.2222222222222222,\"#7201a8\"],[0.3333333333333333,\"#9c179e\"],[0.4444444444444444,\"#bd3786\"],[0.5555555555555556,\"#d8576b\"],[0.6666666666666666,\"#ed7953\"],[0.7777777777777778,\"#fb9f3a\"],[0.8888888888888888,\"#fdca26\"],[1.0,\"#f0f921\"]]}],\"choropleth\":[{\"type\":\"choropleth\",\"colorbar\":{\"outlinewidth\":0,\"ticks\":\"\"}}],\"histogram2d\":[{\"type\":\"histogram2d\",\"colorbar\":{\"outlinewidth\":0,\"ticks\":\"\"},\"colorscale\":[[0.0,\"#0d0887\"],[0.1111111111111111,\"#46039f\"],[0.2222222222222222,\"#7201a8\"],[0.3333333333333333,\"#9c179e\"],[0.4444444444444444,\"#bd3786\"],[0.5555555555555556,\"#d8576b\"],[0.6666666666666666,\"#ed7953\"],[0.7777777777777778,\"#fb9f3a\"],[0.8888888888888888,\"#fdca26\"],[1.0,\"#f0f921\"]]}],\"heatmap\":[{\"type\":\"heatmap\",\"colorbar\":{\"outlinewidth\":0,\"ticks\":\"\"},\"colorscale\":[[0.0,\"#0d0887\"],[0.1111111111111111,\"#46039f\"],[0.2222222222222222,\"#7201a8\"],[0.3333333333333333,\"#9c179e\"],[0.4444444444444444,\"#bd3786\"],[0.5555555555555556,\"#d8576b\"],[0.6666666666666666,\"#ed7953\"],[0.7777777777777778,\"#fb9f3a\"],[0.8888888888888888,\"#fdca26\"],[1.0,\"#f0f921\"]]}],\"contourcarpet\":[{\"type\":\"contourcarpet\",\"colorbar\":{\"outlinewidth\":0,\"ticks\":\"\"}}],\"contour\":[{\"type\":\"contour\",\"colorbar\":{\"outlinewidth\":0,\"ticks\":\"\"},\"colorscale\":[[0.0,\"#0d0887\"],[0.1111111111111111,\"#46039f\"],[0.2222222222222222,\"#7201a8\"],[0.3333333333333333,\"#9c179e\"],[0.4444444444444444,\"#bd3786\"],[0.5555555555555556,\"#d8576b\"],[0.6666666666666666,\"#ed7953\"],[0.7777777777777778,\"#fb9f3a\"],[0.8888888888888888,\"#fdca26\"],[1.0,\"#f0f921\"]]}],\"surface\":[{\"type\":\"surface\",\"colorbar\":{\"outlinewidth\":0,\"ticks\":\"\"},\"colorscale\":[[0.0,\"#0d0887\"],[0.1111111111111111,\"#46039f\"],[0.2222222222222222,\"#7201a8\"],[0.3333333333333333,\"#9c179e\"],[0.4444444444444444,\"#bd3786\"],[0.5555555555555556,\"#d8576b\"],[0.6666666666666666,\"#ed7953\"],[0.7777777777777778,\"#fb9f3a\"],[0.8888888888888888,\"#fdca26\"],[1.0,\"#f0f921\"]]}],\"mesh3d\":[{\"type\":\"mesh3d\",\"colorbar\":{\"outlinewidth\":0,\"ticks\":\"\"}}],\"scatter\":[{\"fillpattern\":{\"fillmode\":\"overlay\",\"size\":10,\"solidity\":0.2},\"type\":\"scatter\"}],\"parcoords\":[{\"type\":\"parcoords\",\"line\":{\"colorbar\":{\"outlinewidth\":0,\"ticks\":\"\"}}}],\"scatterpolargl\":[{\"type\":\"scatterpolargl\",\"marker\":{\"colorbar\":{\"outlinewidth\":0,\"ticks\":\"\"}}}],\"bar\":[{\"error_x\":{\"color\":\"#2a3f5f\"},\"error_y\":{\"color\":\"#2a3f5f\"},\"marker\":{\"line\":{\"color\":\"#E5ECF6\",\"width\":0.5},\"pattern\":{\"fillmode\":\"overlay\",\"size\":10,\"solidity\":0.2}},\"type\":\"bar\"}],\"scattergeo\":[{\"type\":\"scattergeo\",\"marker\":{\"colorbar\":{\"outlinewidth\":0,\"ticks\":\"\"}}}],\"scatterpolar\":[{\"type\":\"scatterpolar\",\"marker\":{\"colorbar\":{\"outlinewidth\":0,\"ticks\":\"\"}}}],\"histogram\":[{\"marker\":{\"pattern\":{\"fillmode\":\"overlay\",\"size\":10,\"solidity\":0.2}},\"type\":\"histogram\"}],\"scattergl\":[{\"type\":\"scattergl\",\"marker\":{\"colorbar\":{\"outlinewidth\":0,\"ticks\":\"\"}}}],\"scatter3d\":[{\"type\":\"scatter3d\",\"line\":{\"colorbar\":{\"outlinewidth\":0,\"ticks\":\"\"}},\"marker\":{\"colorbar\":{\"outlinewidth\":0,\"ticks\":\"\"}}}],\"scattermap\":[{\"type\":\"scattermap\",\"marker\":{\"colorbar\":{\"outlinewidth\":0,\"ticks\":\"\"}}}],\"scattermapbox\":[{\"type\":\"scattermapbox\",\"marker\":{\"colorbar\":{\"outlinewidth\":0,\"ticks\":\"\"}}}],\"scatterternary\":[{\"type\":\"scatterternary\",\"marker\":{\"colorbar\":{\"outlinewidth\":0,\"ticks\":\"\"}}}],\"scattercarpet\":[{\"type\":\"scattercarpet\",\"marker\":{\"colorbar\":{\"outlinewidth\":0,\"ticks\":\"\"}}}],\"carpet\":[{\"aaxis\":{\"endlinecolor\":\"#2a3f5f\",\"gridcolor\":\"white\",\"linecolor\":\"white\",\"minorgridcolor\":\"white\",\"startlinecolor\":\"#2a3f5f\"},\"baxis\":{\"endlinecolor\":\"#2a3f5f\",\"gridcolor\":\"white\",\"linecolor\":\"white\",\"minorgridcolor\":\"white\",\"startlinecolor\":\"#2a3f5f\"},\"type\":\"carpet\"}],\"table\":[{\"cells\":{\"fill\":{\"color\":\"#EBF0F8\"},\"line\":{\"color\":\"white\"}},\"header\":{\"fill\":{\"color\":\"#C8D4E3\"},\"line\":{\"color\":\"white\"}},\"type\":\"table\"}],\"barpolar\":[{\"marker\":{\"line\":{\"color\":\"#E5ECF6\",\"width\":0.5},\"pattern\":{\"fillmode\":\"overlay\",\"size\":10,\"solidity\":0.2}},\"type\":\"barpolar\"}],\"pie\":[{\"automargin\":true,\"type\":\"pie\"}]},\"layout\":{\"autotypenumbers\":\"strict\",\"colorway\":[\"#636efa\",\"#EF553B\",\"#00cc96\",\"#ab63fa\",\"#FFA15A\",\"#19d3f3\",\"#FF6692\",\"#B6E880\",\"#FF97FF\",\"#FECB52\"],\"font\":{\"color\":\"#2a3f5f\"},\"hovermode\":\"closest\",\"hoverlabel\":{\"align\":\"left\"},\"paper_bgcolor\":\"white\",\"plot_bgcolor\":\"#E5ECF6\",\"polar\":{\"bgcolor\":\"#E5ECF6\",\"angularaxis\":{\"gridcolor\":\"white\",\"linecolor\":\"white\",\"ticks\":\"\"},\"radialaxis\":{\"gridcolor\":\"white\",\"linecolor\":\"white\",\"ticks\":\"\"}},\"ternary\":{\"bgcolor\":\"#E5ECF6\",\"aaxis\":{\"gridcolor\":\"white\",\"linecolor\":\"white\",\"ticks\":\"\"},\"baxis\":{\"gridcolor\":\"white\",\"linecolor\":\"white\",\"ticks\":\"\"},\"caxis\":{\"gridcolor\":\"white\",\"linecolor\":\"white\",\"ticks\":\"\"}},\"coloraxis\":{\"colorbar\":{\"outlinewidth\":0,\"ticks\":\"\"}},\"colorscale\":{\"sequential\":[[0.0,\"#0d0887\"],[0.1111111111111111,\"#46039f\"],[0.2222222222222222,\"#7201a8\"],[0.3333333333333333,\"#9c179e\"],[0.4444444444444444,\"#bd3786\"],[0.5555555555555556,\"#d8576b\"],[0.6666666666666666,\"#ed7953\"],[0.7777777777777778,\"#fb9f3a\"],[0.8888888888888888,\"#fdca26\"],[1.0,\"#f0f921\"]],\"sequentialminus\":[[0.0,\"#0d0887\"],[0.1111111111111111,\"#46039f\"],[0.2222222222222222,\"#7201a8\"],[0.3333333333333333,\"#9c179e\"],[0.4444444444444444,\"#bd3786\"],[0.5555555555555556,\"#d8576b\"],[0.6666666666666666,\"#ed7953\"],[0.7777777777777778,\"#fb9f3a\"],[0.8888888888888888,\"#fdca26\"],[1.0,\"#f0f921\"]],\"diverging\":[[0,\"#8e0152\"],[0.1,\"#c51b7d\"],[0.2,\"#de77ae\"],[0.3,\"#f1b6da\"],[0.4,\"#fde0ef\"],[0.5,\"#f7f7f7\"],[0.6,\"#e6f5d0\"],[0.7,\"#b8e186\"],[0.8,\"#7fbc41\"],[0.9,\"#4d9221\"],[1,\"#276419\"]]},\"xaxis\":{\"gridcolor\":\"white\",\"linecolor\":\"white\",\"ticks\":\"\",\"title\":{\"standoff\":15},\"zerolinecolor\":\"white\",\"automargin\":true,\"zerolinewidth\":2},\"yaxis\":{\"gridcolor\":\"white\",\"linecolor\":\"white\",\"ticks\":\"\",\"title\":{\"standoff\":15},\"zerolinecolor\":\"white\",\"automargin\":true,\"zerolinewidth\":2},\"scene\":{\"xaxis\":{\"backgroundcolor\":\"#E5ECF6\",\"gridcolor\":\"white\",\"linecolor\":\"white\",\"showbackground\":true,\"ticks\":\"\",\"zerolinecolor\":\"white\",\"gridwidth\":2},\"yaxis\":{\"backgroundcolor\":\"#E5ECF6\",\"gridcolor\":\"white\",\"linecolor\":\"white\",\"showbackground\":true,\"ticks\":\"\",\"zerolinecolor\":\"white\",\"gridwidth\":2},\"zaxis\":{\"backgroundcolor\":\"#E5ECF6\",\"gridcolor\":\"white\",\"linecolor\":\"white\",\"showbackground\":true,\"ticks\":\"\",\"zerolinecolor\":\"white\",\"gridwidth\":2}},\"shapedefaults\":{\"line\":{\"color\":\"#2a3f5f\"}},\"annotationdefaults\":{\"arrowcolor\":\"#2a3f5f\",\"arrowhead\":0,\"arrowwidth\":1},\"geo\":{\"bgcolor\":\"white\",\"landcolor\":\"#E5ECF6\",\"subunitcolor\":\"white\",\"showland\":true,\"showlakes\":true,\"lakecolor\":\"white\"},\"title\":{\"x\":0.05},\"mapbox\":{\"style\":\"light\"}}},\"xaxis\":{\"anchor\":\"y\",\"domain\":[0.0,1.0],\"title\":{\"text\":\"Date\"}},\"yaxis\":{\"anchor\":\"x\",\"domain\":[0.0,1.0],\"title\":{\"text\":\"Passengers\\u003cbr\\u003eDifference Transform\"}},\"legend\":{\"tracegroupgap\":0},\"title\":{\"text\":\"Airline Passengers\"}},                        {\"responsive\": true}                    ).then(function(){\n",
       "                            \n",
       "var gd = document.getElementById('50378d14-01d5-4b1a-8eb5-34817814dc9c');\n",
       "var x = new MutationObserver(function (mutations, observer) {{\n",
       "        var display = window.getComputedStyle(gd).display;\n",
       "        if (!display || display === 'none') {{\n",
       "            console.log([gd, 'removed!']);\n",
       "            Plotly.purge(gd);\n",
       "            observer.disconnect();\n",
       "        }}\n",
       "}});\n",
       "\n",
       "// Listen for the removal of the full notebook cells\n",
       "var notebookContainer = gd.closest('#notebook-container');\n",
       "if (notebookContainer) {{\n",
       "    x.observe(notebookContainer, {childList: true});\n",
       "}}\n",
       "\n",
       "// Listen for the clearing of the current output cell\n",
       "var outputEl = gd.closest('.output');\n",
       "if (outputEl) {{\n",
       "    x.observe(outputEl, {childList: true});\n",
       "}}\n",
       "\n",
       "                        })                };            </script>        </div>"
      ]
     },
     "metadata": {},
     "output_type": "display_data"
    }
   ],
   "source": [
    "df['Passenger_Diff'] = df['Passengers'].diff()\n",
    "fig = px.line(df, x = 'Date', y = 'Passenger_Diff',\n",
    "              labels = {'Date':'Date', 'Passenger_Diff' : 'Passengers<br>Difference Transform'},\n",
    "              title = 'Airline Passengers'\n",
    "             )\n",
    "fig.show()"
   ]
  },
  {
   "cell_type": "markdown",
   "id": "facf73f7-7414-4315-abcb-4c0e46dd8f22",
   "metadata": {},
   "source": [
    "As we can see now there is no increasing trend and the mean of the data is around zero. However the variance is still changing. Therefore we need the log transformation."
   ]
  },
  {
   "cell_type": "code",
   "execution_count": 217,
   "id": "fcaf3a43-558f-448d-a71a-c4c0965676cf",
   "metadata": {},
   "outputs": [
    {
     "data": {
      "text/html": [
       "<div>            <script src=\"https://cdnjs.cloudflare.com/ajax/libs/mathjax/2.7.5/MathJax.js?config=TeX-AMS-MML_SVG\"></script><script type=\"text/javascript\">if (window.MathJax && window.MathJax.Hub && window.MathJax.Hub.Config) {window.MathJax.Hub.Config({SVG: {font: \"STIX-Web\"}});}</script>                    <div id=\"7e9f43d2-36d8-4edf-b73e-1705a9c0ea4d\" class=\"plotly-graph-div\" style=\"height:525px; width:100%;\"></div>            <script type=\"text/javascript\">                window.PLOTLYENV=window.PLOTLYENV || {};                                if (document.getElementById(\"7e9f43d2-36d8-4edf-b73e-1705a9c0ea4d\")) {                    Plotly.newPlot(                        \"7e9f43d2-36d8-4edf-b73e-1705a9c0ea4d\",                        [{\"hovertemplate\":\"Date=%{x}\\u003cbr\\u003ePassengers\\u003cbr\\u003eLog Transform=%{y}\\u003cextra\\u003e\\u003c\\u002fextra\\u003e\",\"legendgroup\":\"\",\"line\":{\"color\":\"#636efa\",\"dash\":\"solid\"},\"marker\":{\"symbol\":\"circle\"},\"mode\":\"lines\",\"name\":\"\",\"orientation\":\"v\",\"showlegend\":false,\"x\":[\"1949-01-01T00:00:00.000000000\",\"1949-02-01T00:00:00.000000000\",\"1949-03-01T00:00:00.000000000\",\"1949-04-01T00:00:00.000000000\",\"1949-05-01T00:00:00.000000000\",\"1949-06-01T00:00:00.000000000\",\"1949-07-01T00:00:00.000000000\",\"1949-08-01T00:00:00.000000000\",\"1949-09-01T00:00:00.000000000\",\"1949-10-01T00:00:00.000000000\",\"1949-11-01T00:00:00.000000000\",\"1949-12-01T00:00:00.000000000\",\"1950-01-01T00:00:00.000000000\",\"1950-02-01T00:00:00.000000000\",\"1950-03-01T00:00:00.000000000\",\"1950-04-01T00:00:00.000000000\",\"1950-05-01T00:00:00.000000000\",\"1950-06-01T00:00:00.000000000\",\"1950-07-01T00:00:00.000000000\",\"1950-08-01T00:00:00.000000000\",\"1950-09-01T00:00:00.000000000\",\"1950-10-01T00:00:00.000000000\",\"1950-11-01T00:00:00.000000000\",\"1950-12-01T00:00:00.000000000\",\"1951-01-01T00:00:00.000000000\",\"1951-02-01T00:00:00.000000000\",\"1951-03-01T00:00:00.000000000\",\"1951-04-01T00:00:00.000000000\",\"1951-05-01T00:00:00.000000000\",\"1951-06-01T00:00:00.000000000\",\"1951-07-01T00:00:00.000000000\",\"1951-08-01T00:00:00.000000000\",\"1951-09-01T00:00:00.000000000\",\"1951-10-01T00:00:00.000000000\",\"1951-11-01T00:00:00.000000000\",\"1951-12-01T00:00:00.000000000\",\"1952-01-01T00:00:00.000000000\",\"1952-02-01T00:00:00.000000000\",\"1952-03-01T00:00:00.000000000\",\"1952-04-01T00:00:00.000000000\",\"1952-05-01T00:00:00.000000000\",\"1952-06-01T00:00:00.000000000\",\"1952-07-01T00:00:00.000000000\",\"1952-08-01T00:00:00.000000000\",\"1952-09-01T00:00:00.000000000\",\"1952-10-01T00:00:00.000000000\",\"1952-11-01T00:00:00.000000000\",\"1952-12-01T00:00:00.000000000\",\"1953-01-01T00:00:00.000000000\",\"1953-02-01T00:00:00.000000000\",\"1953-03-01T00:00:00.000000000\",\"1953-04-01T00:00:00.000000000\",\"1953-05-01T00:00:00.000000000\",\"1953-06-01T00:00:00.000000000\",\"1953-07-01T00:00:00.000000000\",\"1953-08-01T00:00:00.000000000\",\"1953-09-01T00:00:00.000000000\",\"1953-10-01T00:00:00.000000000\",\"1953-11-01T00:00:00.000000000\",\"1953-12-01T00:00:00.000000000\",\"1954-01-01T00:00:00.000000000\",\"1954-02-01T00:00:00.000000000\",\"1954-03-01T00:00:00.000000000\",\"1954-04-01T00:00:00.000000000\",\"1954-05-01T00:00:00.000000000\",\"1954-06-01T00:00:00.000000000\",\"1954-07-01T00:00:00.000000000\",\"1954-08-01T00:00:00.000000000\",\"1954-09-01T00:00:00.000000000\",\"1954-10-01T00:00:00.000000000\",\"1954-11-01T00:00:00.000000000\",\"1954-12-01T00:00:00.000000000\",\"1955-01-01T00:00:00.000000000\",\"1955-02-01T00:00:00.000000000\",\"1955-03-01T00:00:00.000000000\",\"1955-04-01T00:00:00.000000000\",\"1955-05-01T00:00:00.000000000\",\"1955-06-01T00:00:00.000000000\",\"1955-07-01T00:00:00.000000000\",\"1955-08-01T00:00:00.000000000\",\"1955-09-01T00:00:00.000000000\",\"1955-10-01T00:00:00.000000000\",\"1955-11-01T00:00:00.000000000\",\"1955-12-01T00:00:00.000000000\",\"1956-01-01T00:00:00.000000000\",\"1956-02-01T00:00:00.000000000\",\"1956-03-01T00:00:00.000000000\",\"1956-04-01T00:00:00.000000000\",\"1956-05-01T00:00:00.000000000\",\"1956-06-01T00:00:00.000000000\",\"1956-07-01T00:00:00.000000000\",\"1956-08-01T00:00:00.000000000\",\"1956-09-01T00:00:00.000000000\",\"1956-10-01T00:00:00.000000000\",\"1956-11-01T00:00:00.000000000\",\"1956-12-01T00:00:00.000000000\",\"1957-01-01T00:00:00.000000000\",\"1957-02-01T00:00:00.000000000\",\"1957-03-01T00:00:00.000000000\",\"1957-04-01T00:00:00.000000000\",\"1957-05-01T00:00:00.000000000\",\"1957-06-01T00:00:00.000000000\",\"1957-07-01T00:00:00.000000000\",\"1957-08-01T00:00:00.000000000\",\"1957-09-01T00:00:00.000000000\",\"1957-10-01T00:00:00.000000000\",\"1957-11-01T00:00:00.000000000\",\"1957-12-01T00:00:00.000000000\",\"1958-01-01T00:00:00.000000000\",\"1958-02-01T00:00:00.000000000\",\"1958-03-01T00:00:00.000000000\",\"1958-04-01T00:00:00.000000000\",\"1958-05-01T00:00:00.000000000\",\"1958-06-01T00:00:00.000000000\",\"1958-07-01T00:00:00.000000000\",\"1958-08-01T00:00:00.000000000\",\"1958-09-01T00:00:00.000000000\",\"1958-10-01T00:00:00.000000000\",\"1958-11-01T00:00:00.000000000\",\"1958-12-01T00:00:00.000000000\",\"1959-01-01T00:00:00.000000000\",\"1959-02-01T00:00:00.000000000\",\"1959-03-01T00:00:00.000000000\",\"1959-04-01T00:00:00.000000000\",\"1959-05-01T00:00:00.000000000\",\"1959-06-01T00:00:00.000000000\",\"1959-07-01T00:00:00.000000000\",\"1959-08-01T00:00:00.000000000\",\"1959-09-01T00:00:00.000000000\",\"1959-10-01T00:00:00.000000000\",\"1959-11-01T00:00:00.000000000\",\"1959-12-01T00:00:00.000000000\",\"1960-01-01T00:00:00.000000000\",\"1960-02-01T00:00:00.000000000\",\"1960-03-01T00:00:00.000000000\",\"1960-04-01T00:00:00.000000000\",\"1960-05-01T00:00:00.000000000\",\"1960-06-01T00:00:00.000000000\",\"1960-07-01T00:00:00.000000000\",\"1960-08-01T00:00:00.000000000\",\"1960-09-01T00:00:00.000000000\",\"1960-10-01T00:00:00.000000000\",\"1960-11-01T00:00:00.000000000\",\"1960-12-01T00:00:00.000000000\"],\"xaxis\":\"x\",\"y\":{\"dtype\":\"f8\",\"bdata\":\"jbMJK77fEkC3cKZZLhUTQORqKTr9hxNAy7a1qXJwE0BMN3+34y4TQJUl\\u002fVkAnxNAWvLbNiX9E0Ba8ts2Jf0TQHcVmwCPphNAU9aJjNIdE0DimzY125MSQLdwplkuFRNART3kfM\\u002f6EkBZX8JIWlgTQB65c7aHyxNAlSX9WQCfE0DnKfJ5MVATQC3nG4AKBBRASOrXvg6LFEBI6te+DosUQLH4jukYQBRALPCOrrePE0CX4YwB3vESQF6IRuk9xBNAXGLi4yzoE0CaToH64woUQDTSjXcluhRAe9V5DQBgFECEBMnKCJcUQDTSjXcluhRAhs2XGVgsFUCGzZcZWCwVQLKvhh4Y3BRASEqM2rJZFEAkdwGTNu8TQMArQu2schRAHNtYQBCRFEBOcxB7lsUUQGJOKaj+DBVAK49GzkLLFEDQrL2Jg9YUQESc4BK5iRVAg4TD3JfAFUCKfl4XrPQVQDz1wd6MXhVAunAs91MCFUCEBMnKCJcUQDaTxGhJEhVAp7vXFsocFUCnu9cWyhwVQPW3hbn22hVAqNvDlZ3WFUDDSPOeIbwVQM1DWBnl+BVAIrIImsVNFkC1XHpgV2wWQDbyWihL3xVA+3Ggf01oFUBOcxB7lsUUQPBR04+VNhVA+w5nP8FFFUDXBofXHfIUQKjbw5Wd1hVAqxHuGCazFUDsjs6yP9IVQCKyCJrFTRZAkUcXLnrXFkAFdB0rf7gWQHT6qSIxOhZAw0jzniG8FUCllXMRuUAVQMNI854hvBVAin5eF6z0FUBfNj0G3c0VQLnLWbZXWRZAt8sXBfxgFkDTbNy5yGQWQGh73maiAhdAOuvjgK+WF0B1NyZltWUXQKXc4dPV+BZA28e02tdzFkA28looS98VQFBS9huvghZARWXjs4yYFkAL0\\u002fRx\\u002fn4WQJy37osdCRdAyylusBz8FkBWppsyVwwXQKEinBxwshdAD8BTpQIYGEBXZqj4+gMYQBY6IHIMfRdAgAgzfvPkFkAG8A\\u002fWkWgWQIAIM37z5BZAaHveZqICF0CeDJe2FNQWQHIZbdftfxdATs5QxKdoF0AWOiByDH0XQDm5f98VLhhAvDnvQHKRGEAii0BW15UYQK1I2uZyARhAdTcmZbVlF0Bazw1pmeEWQFD0tMm4RBdAhjG3HtdQF0BWppsyVwwXQGnWJS4LkRdATs5QxKdoF0AOeCpW3pMXQB+jjYInTRhAj3lBpijJGEB+HRel8uUYQK1I2uZyARhA7YYJqoWIF0A4QCMCQPIWQCZ819HDRxdAjLrv2l6LF0BZIjig2FYXQOPcUnGBBhhAp6vU2PfsF0AhyfGHOCkYQDL\\u002fZBm\\u002foBhAGQ+UOqA5GUAxPKMg+k0ZQJhMJFIIjRhAhP\\u002fcUgYJGEBp1iUuC5EXQFdmqPj6AxhA1UvCWuEhGEC1Gebf9N8XQNsjaqLHJhhAgxUgf5mIGEAy\\u002f2QZv6AYQKiquogKIRlAl8TNpVS7GUAxQqYlpaAZQL68HlQD7BhAgxUgf5mIGEB2sR6SVd0XQEDfflsRRhhA\"},\"yaxis\":\"y\",\"type\":\"scatter\"}],                        {\"template\":{\"data\":{\"histogram2dcontour\":[{\"type\":\"histogram2dcontour\",\"colorbar\":{\"outlinewidth\":0,\"ticks\":\"\"},\"colorscale\":[[0.0,\"#0d0887\"],[0.1111111111111111,\"#46039f\"],[0.2222222222222222,\"#7201a8\"],[0.3333333333333333,\"#9c179e\"],[0.4444444444444444,\"#bd3786\"],[0.5555555555555556,\"#d8576b\"],[0.6666666666666666,\"#ed7953\"],[0.7777777777777778,\"#fb9f3a\"],[0.8888888888888888,\"#fdca26\"],[1.0,\"#f0f921\"]]}],\"choropleth\":[{\"type\":\"choropleth\",\"colorbar\":{\"outlinewidth\":0,\"ticks\":\"\"}}],\"histogram2d\":[{\"type\":\"histogram2d\",\"colorbar\":{\"outlinewidth\":0,\"ticks\":\"\"},\"colorscale\":[[0.0,\"#0d0887\"],[0.1111111111111111,\"#46039f\"],[0.2222222222222222,\"#7201a8\"],[0.3333333333333333,\"#9c179e\"],[0.4444444444444444,\"#bd3786\"],[0.5555555555555556,\"#d8576b\"],[0.6666666666666666,\"#ed7953\"],[0.7777777777777778,\"#fb9f3a\"],[0.8888888888888888,\"#fdca26\"],[1.0,\"#f0f921\"]]}],\"heatmap\":[{\"type\":\"heatmap\",\"colorbar\":{\"outlinewidth\":0,\"ticks\":\"\"},\"colorscale\":[[0.0,\"#0d0887\"],[0.1111111111111111,\"#46039f\"],[0.2222222222222222,\"#7201a8\"],[0.3333333333333333,\"#9c179e\"],[0.4444444444444444,\"#bd3786\"],[0.5555555555555556,\"#d8576b\"],[0.6666666666666666,\"#ed7953\"],[0.7777777777777778,\"#fb9f3a\"],[0.8888888888888888,\"#fdca26\"],[1.0,\"#f0f921\"]]}],\"contourcarpet\":[{\"type\":\"contourcarpet\",\"colorbar\":{\"outlinewidth\":0,\"ticks\":\"\"}}],\"contour\":[{\"type\":\"contour\",\"colorbar\":{\"outlinewidth\":0,\"ticks\":\"\"},\"colorscale\":[[0.0,\"#0d0887\"],[0.1111111111111111,\"#46039f\"],[0.2222222222222222,\"#7201a8\"],[0.3333333333333333,\"#9c179e\"],[0.4444444444444444,\"#bd3786\"],[0.5555555555555556,\"#d8576b\"],[0.6666666666666666,\"#ed7953\"],[0.7777777777777778,\"#fb9f3a\"],[0.8888888888888888,\"#fdca26\"],[1.0,\"#f0f921\"]]}],\"surface\":[{\"type\":\"surface\",\"colorbar\":{\"outlinewidth\":0,\"ticks\":\"\"},\"colorscale\":[[0.0,\"#0d0887\"],[0.1111111111111111,\"#46039f\"],[0.2222222222222222,\"#7201a8\"],[0.3333333333333333,\"#9c179e\"],[0.4444444444444444,\"#bd3786\"],[0.5555555555555556,\"#d8576b\"],[0.6666666666666666,\"#ed7953\"],[0.7777777777777778,\"#fb9f3a\"],[0.8888888888888888,\"#fdca26\"],[1.0,\"#f0f921\"]]}],\"mesh3d\":[{\"type\":\"mesh3d\",\"colorbar\":{\"outlinewidth\":0,\"ticks\":\"\"}}],\"scatter\":[{\"fillpattern\":{\"fillmode\":\"overlay\",\"size\":10,\"solidity\":0.2},\"type\":\"scatter\"}],\"parcoords\":[{\"type\":\"parcoords\",\"line\":{\"colorbar\":{\"outlinewidth\":0,\"ticks\":\"\"}}}],\"scatterpolargl\":[{\"type\":\"scatterpolargl\",\"marker\":{\"colorbar\":{\"outlinewidth\":0,\"ticks\":\"\"}}}],\"bar\":[{\"error_x\":{\"color\":\"#2a3f5f\"},\"error_y\":{\"color\":\"#2a3f5f\"},\"marker\":{\"line\":{\"color\":\"#E5ECF6\",\"width\":0.5},\"pattern\":{\"fillmode\":\"overlay\",\"size\":10,\"solidity\":0.2}},\"type\":\"bar\"}],\"scattergeo\":[{\"type\":\"scattergeo\",\"marker\":{\"colorbar\":{\"outlinewidth\":0,\"ticks\":\"\"}}}],\"scatterpolar\":[{\"type\":\"scatterpolar\",\"marker\":{\"colorbar\":{\"outlinewidth\":0,\"ticks\":\"\"}}}],\"histogram\":[{\"marker\":{\"pattern\":{\"fillmode\":\"overlay\",\"size\":10,\"solidity\":0.2}},\"type\":\"histogram\"}],\"scattergl\":[{\"type\":\"scattergl\",\"marker\":{\"colorbar\":{\"outlinewidth\":0,\"ticks\":\"\"}}}],\"scatter3d\":[{\"type\":\"scatter3d\",\"line\":{\"colorbar\":{\"outlinewidth\":0,\"ticks\":\"\"}},\"marker\":{\"colorbar\":{\"outlinewidth\":0,\"ticks\":\"\"}}}],\"scattermap\":[{\"type\":\"scattermap\",\"marker\":{\"colorbar\":{\"outlinewidth\":0,\"ticks\":\"\"}}}],\"scattermapbox\":[{\"type\":\"scattermapbox\",\"marker\":{\"colorbar\":{\"outlinewidth\":0,\"ticks\":\"\"}}}],\"scatterternary\":[{\"type\":\"scatterternary\",\"marker\":{\"colorbar\":{\"outlinewidth\":0,\"ticks\":\"\"}}}],\"scattercarpet\":[{\"type\":\"scattercarpet\",\"marker\":{\"colorbar\":{\"outlinewidth\":0,\"ticks\":\"\"}}}],\"carpet\":[{\"aaxis\":{\"endlinecolor\":\"#2a3f5f\",\"gridcolor\":\"white\",\"linecolor\":\"white\",\"minorgridcolor\":\"white\",\"startlinecolor\":\"#2a3f5f\"},\"baxis\":{\"endlinecolor\":\"#2a3f5f\",\"gridcolor\":\"white\",\"linecolor\":\"white\",\"minorgridcolor\":\"white\",\"startlinecolor\":\"#2a3f5f\"},\"type\":\"carpet\"}],\"table\":[{\"cells\":{\"fill\":{\"color\":\"#EBF0F8\"},\"line\":{\"color\":\"white\"}},\"header\":{\"fill\":{\"color\":\"#C8D4E3\"},\"line\":{\"color\":\"white\"}},\"type\":\"table\"}],\"barpolar\":[{\"marker\":{\"line\":{\"color\":\"#E5ECF6\",\"width\":0.5},\"pattern\":{\"fillmode\":\"overlay\",\"size\":10,\"solidity\":0.2}},\"type\":\"barpolar\"}],\"pie\":[{\"automargin\":true,\"type\":\"pie\"}]},\"layout\":{\"autotypenumbers\":\"strict\",\"colorway\":[\"#636efa\",\"#EF553B\",\"#00cc96\",\"#ab63fa\",\"#FFA15A\",\"#19d3f3\",\"#FF6692\",\"#B6E880\",\"#FF97FF\",\"#FECB52\"],\"font\":{\"color\":\"#2a3f5f\"},\"hovermode\":\"closest\",\"hoverlabel\":{\"align\":\"left\"},\"paper_bgcolor\":\"white\",\"plot_bgcolor\":\"#E5ECF6\",\"polar\":{\"bgcolor\":\"#E5ECF6\",\"angularaxis\":{\"gridcolor\":\"white\",\"linecolor\":\"white\",\"ticks\":\"\"},\"radialaxis\":{\"gridcolor\":\"white\",\"linecolor\":\"white\",\"ticks\":\"\"}},\"ternary\":{\"bgcolor\":\"#E5ECF6\",\"aaxis\":{\"gridcolor\":\"white\",\"linecolor\":\"white\",\"ticks\":\"\"},\"baxis\":{\"gridcolor\":\"white\",\"linecolor\":\"white\",\"ticks\":\"\"},\"caxis\":{\"gridcolor\":\"white\",\"linecolor\":\"white\",\"ticks\":\"\"}},\"coloraxis\":{\"colorbar\":{\"outlinewidth\":0,\"ticks\":\"\"}},\"colorscale\":{\"sequential\":[[0.0,\"#0d0887\"],[0.1111111111111111,\"#46039f\"],[0.2222222222222222,\"#7201a8\"],[0.3333333333333333,\"#9c179e\"],[0.4444444444444444,\"#bd3786\"],[0.5555555555555556,\"#d8576b\"],[0.6666666666666666,\"#ed7953\"],[0.7777777777777778,\"#fb9f3a\"],[0.8888888888888888,\"#fdca26\"],[1.0,\"#f0f921\"]],\"sequentialminus\":[[0.0,\"#0d0887\"],[0.1111111111111111,\"#46039f\"],[0.2222222222222222,\"#7201a8\"],[0.3333333333333333,\"#9c179e\"],[0.4444444444444444,\"#bd3786\"],[0.5555555555555556,\"#d8576b\"],[0.6666666666666666,\"#ed7953\"],[0.7777777777777778,\"#fb9f3a\"],[0.8888888888888888,\"#fdca26\"],[1.0,\"#f0f921\"]],\"diverging\":[[0,\"#8e0152\"],[0.1,\"#c51b7d\"],[0.2,\"#de77ae\"],[0.3,\"#f1b6da\"],[0.4,\"#fde0ef\"],[0.5,\"#f7f7f7\"],[0.6,\"#e6f5d0\"],[0.7,\"#b8e186\"],[0.8,\"#7fbc41\"],[0.9,\"#4d9221\"],[1,\"#276419\"]]},\"xaxis\":{\"gridcolor\":\"white\",\"linecolor\":\"white\",\"ticks\":\"\",\"title\":{\"standoff\":15},\"zerolinecolor\":\"white\",\"automargin\":true,\"zerolinewidth\":2},\"yaxis\":{\"gridcolor\":\"white\",\"linecolor\":\"white\",\"ticks\":\"\",\"title\":{\"standoff\":15},\"zerolinecolor\":\"white\",\"automargin\":true,\"zerolinewidth\":2},\"scene\":{\"xaxis\":{\"backgroundcolor\":\"#E5ECF6\",\"gridcolor\":\"white\",\"linecolor\":\"white\",\"showbackground\":true,\"ticks\":\"\",\"zerolinecolor\":\"white\",\"gridwidth\":2},\"yaxis\":{\"backgroundcolor\":\"#E5ECF6\",\"gridcolor\":\"white\",\"linecolor\":\"white\",\"showbackground\":true,\"ticks\":\"\",\"zerolinecolor\":\"white\",\"gridwidth\":2},\"zaxis\":{\"backgroundcolor\":\"#E5ECF6\",\"gridcolor\":\"white\",\"linecolor\":\"white\",\"showbackground\":true,\"ticks\":\"\",\"zerolinecolor\":\"white\",\"gridwidth\":2}},\"shapedefaults\":{\"line\":{\"color\":\"#2a3f5f\"}},\"annotationdefaults\":{\"arrowcolor\":\"#2a3f5f\",\"arrowhead\":0,\"arrowwidth\":1},\"geo\":{\"bgcolor\":\"white\",\"landcolor\":\"#E5ECF6\",\"subunitcolor\":\"white\",\"showland\":true,\"showlakes\":true,\"lakecolor\":\"white\"},\"title\":{\"x\":0.05},\"mapbox\":{\"style\":\"light\"}}},\"xaxis\":{\"anchor\":\"y\",\"domain\":[0.0,1.0],\"title\":{\"text\":\"Date\"}},\"yaxis\":{\"anchor\":\"x\",\"domain\":[0.0,1.0],\"title\":{\"text\":\"Passengers\\u003cbr\\u003eLog Transform\"}},\"legend\":{\"tracegroupgap\":0},\"title\":{\"text\":\"Airline Passengers\"}},                        {\"responsive\": true}                    ).then(function(){\n",
       "                            \n",
       "var gd = document.getElementById('7e9f43d2-36d8-4edf-b73e-1705a9c0ea4d');\n",
       "var x = new MutationObserver(function (mutations, observer) {{\n",
       "        var display = window.getComputedStyle(gd).display;\n",
       "        if (!display || display === 'none') {{\n",
       "            console.log([gd, 'removed!']);\n",
       "            Plotly.purge(gd);\n",
       "            observer.disconnect();\n",
       "        }}\n",
       "}});\n",
       "\n",
       "// Listen for the removal of the full notebook cells\n",
       "var notebookContainer = gd.closest('#notebook-container');\n",
       "if (notebookContainer) {{\n",
       "    x.observe(notebookContainer, {childList: true});\n",
       "}}\n",
       "\n",
       "// Listen for the clearing of the current output cell\n",
       "var outputEl = gd.closest('.output');\n",
       "if (outputEl) {{\n",
       "    x.observe(outputEl, {childList: true});\n",
       "}}\n",
       "\n",
       "                        })                };            </script>        </div>"
      ]
     },
     "metadata": {},
     "output_type": "display_data"
    }
   ],
   "source": [
    "df['Passenger_log'] = np.log(df['Passengers'])\n",
    "fig = px.line(df, x = 'Date', y = 'Passenger_log',\n",
    "              labels = {'Date':'Date', 'Passenger_log' : 'Passengers<br>Log Transform'},\n",
    "              title = 'Airline Passengers'\n",
    "             )\n",
    "fig.show()"
   ]
  },
  {
   "cell_type": "markdown",
   "id": "34d00fa1-19eb-43d2-a96d-59bd108d748a",
   "metadata": {},
   "source": [
    "After logarithm transform we can see that the fluctuations are now consistent. Now we again apply the difference transform."
   ]
  },
  {
   "cell_type": "code",
   "execution_count": 218,
   "id": "941a5945-3bfa-4e55-a9eb-c487248c8fff",
   "metadata": {},
   "outputs": [
    {
     "data": {
      "text/html": [
       "<div>            <script src=\"https://cdnjs.cloudflare.com/ajax/libs/mathjax/2.7.5/MathJax.js?config=TeX-AMS-MML_SVG\"></script><script type=\"text/javascript\">if (window.MathJax && window.MathJax.Hub && window.MathJax.Hub.Config) {window.MathJax.Hub.Config({SVG: {font: \"STIX-Web\"}});}</script>                    <div id=\"1df1fb62-b0e8-40ad-b38a-d90090aa35d2\" class=\"plotly-graph-div\" style=\"height:525px; width:100%;\"></div>            <script type=\"text/javascript\">                window.PLOTLYENV=window.PLOTLYENV || {};                                if (document.getElementById(\"1df1fb62-b0e8-40ad-b38a-d90090aa35d2\")) {                    Plotly.newPlot(                        \"1df1fb62-b0e8-40ad-b38a-d90090aa35d2\",                        [{\"hovertemplate\":\"Date=%{x}\\u003cbr\\u003ePassengers\\u003cbr\\u003eLog and Difference Transform=%{y}\\u003cextra\\u003e\\u003c\\u002fextra\\u003e\",\"legendgroup\":\"\",\"line\":{\"color\":\"#636efa\",\"dash\":\"solid\"},\"marker\":{\"symbol\":\"circle\"},\"mode\":\"lines\",\"name\":\"\",\"orientation\":\"v\",\"showlegend\":false,\"x\":[\"1949-01-01T00:00:00.000000000\",\"1949-02-01T00:00:00.000000000\",\"1949-03-01T00:00:00.000000000\",\"1949-04-01T00:00:00.000000000\",\"1949-05-01T00:00:00.000000000\",\"1949-06-01T00:00:00.000000000\",\"1949-07-01T00:00:00.000000000\",\"1949-08-01T00:00:00.000000000\",\"1949-09-01T00:00:00.000000000\",\"1949-10-01T00:00:00.000000000\",\"1949-11-01T00:00:00.000000000\",\"1949-12-01T00:00:00.000000000\",\"1950-01-01T00:00:00.000000000\",\"1950-02-01T00:00:00.000000000\",\"1950-03-01T00:00:00.000000000\",\"1950-04-01T00:00:00.000000000\",\"1950-05-01T00:00:00.000000000\",\"1950-06-01T00:00:00.000000000\",\"1950-07-01T00:00:00.000000000\",\"1950-08-01T00:00:00.000000000\",\"1950-09-01T00:00:00.000000000\",\"1950-10-01T00:00:00.000000000\",\"1950-11-01T00:00:00.000000000\",\"1950-12-01T00:00:00.000000000\",\"1951-01-01T00:00:00.000000000\",\"1951-02-01T00:00:00.000000000\",\"1951-03-01T00:00:00.000000000\",\"1951-04-01T00:00:00.000000000\",\"1951-05-01T00:00:00.000000000\",\"1951-06-01T00:00:00.000000000\",\"1951-07-01T00:00:00.000000000\",\"1951-08-01T00:00:00.000000000\",\"1951-09-01T00:00:00.000000000\",\"1951-10-01T00:00:00.000000000\",\"1951-11-01T00:00:00.000000000\",\"1951-12-01T00:00:00.000000000\",\"1952-01-01T00:00:00.000000000\",\"1952-02-01T00:00:00.000000000\",\"1952-03-01T00:00:00.000000000\",\"1952-04-01T00:00:00.000000000\",\"1952-05-01T00:00:00.000000000\",\"1952-06-01T00:00:00.000000000\",\"1952-07-01T00:00:00.000000000\",\"1952-08-01T00:00:00.000000000\",\"1952-09-01T00:00:00.000000000\",\"1952-10-01T00:00:00.000000000\",\"1952-11-01T00:00:00.000000000\",\"1952-12-01T00:00:00.000000000\",\"1953-01-01T00:00:00.000000000\",\"1953-02-01T00:00:00.000000000\",\"1953-03-01T00:00:00.000000000\",\"1953-04-01T00:00:00.000000000\",\"1953-05-01T00:00:00.000000000\",\"1953-06-01T00:00:00.000000000\",\"1953-07-01T00:00:00.000000000\",\"1953-08-01T00:00:00.000000000\",\"1953-09-01T00:00:00.000000000\",\"1953-10-01T00:00:00.000000000\",\"1953-11-01T00:00:00.000000000\",\"1953-12-01T00:00:00.000000000\",\"1954-01-01T00:00:00.000000000\",\"1954-02-01T00:00:00.000000000\",\"1954-03-01T00:00:00.000000000\",\"1954-04-01T00:00:00.000000000\",\"1954-05-01T00:00:00.000000000\",\"1954-06-01T00:00:00.000000000\",\"1954-07-01T00:00:00.000000000\",\"1954-08-01T00:00:00.000000000\",\"1954-09-01T00:00:00.000000000\",\"1954-10-01T00:00:00.000000000\",\"1954-11-01T00:00:00.000000000\",\"1954-12-01T00:00:00.000000000\",\"1955-01-01T00:00:00.000000000\",\"1955-02-01T00:00:00.000000000\",\"1955-03-01T00:00:00.000000000\",\"1955-04-01T00:00:00.000000000\",\"1955-05-01T00:00:00.000000000\",\"1955-06-01T00:00:00.000000000\",\"1955-07-01T00:00:00.000000000\",\"1955-08-01T00:00:00.000000000\",\"1955-09-01T00:00:00.000000000\",\"1955-10-01T00:00:00.000000000\",\"1955-11-01T00:00:00.000000000\",\"1955-12-01T00:00:00.000000000\",\"1956-01-01T00:00:00.000000000\",\"1956-02-01T00:00:00.000000000\",\"1956-03-01T00:00:00.000000000\",\"1956-04-01T00:00:00.000000000\",\"1956-05-01T00:00:00.000000000\",\"1956-06-01T00:00:00.000000000\",\"1956-07-01T00:00:00.000000000\",\"1956-08-01T00:00:00.000000000\",\"1956-09-01T00:00:00.000000000\",\"1956-10-01T00:00:00.000000000\",\"1956-11-01T00:00:00.000000000\",\"1956-12-01T00:00:00.000000000\",\"1957-01-01T00:00:00.000000000\",\"1957-02-01T00:00:00.000000000\",\"1957-03-01T00:00:00.000000000\",\"1957-04-01T00:00:00.000000000\",\"1957-05-01T00:00:00.000000000\",\"1957-06-01T00:00:00.000000000\",\"1957-07-01T00:00:00.000000000\",\"1957-08-01T00:00:00.000000000\",\"1957-09-01T00:00:00.000000000\",\"1957-10-01T00:00:00.000000000\",\"1957-11-01T00:00:00.000000000\",\"1957-12-01T00:00:00.000000000\",\"1958-01-01T00:00:00.000000000\",\"1958-02-01T00:00:00.000000000\",\"1958-03-01T00:00:00.000000000\",\"1958-04-01T00:00:00.000000000\",\"1958-05-01T00:00:00.000000000\",\"1958-06-01T00:00:00.000000000\",\"1958-07-01T00:00:00.000000000\",\"1958-08-01T00:00:00.000000000\",\"1958-09-01T00:00:00.000000000\",\"1958-10-01T00:00:00.000000000\",\"1958-11-01T00:00:00.000000000\",\"1958-12-01T00:00:00.000000000\",\"1959-01-01T00:00:00.000000000\",\"1959-02-01T00:00:00.000000000\",\"1959-03-01T00:00:00.000000000\",\"1959-04-01T00:00:00.000000000\",\"1959-05-01T00:00:00.000000000\",\"1959-06-01T00:00:00.000000000\",\"1959-07-01T00:00:00.000000000\",\"1959-08-01T00:00:00.000000000\",\"1959-09-01T00:00:00.000000000\",\"1959-10-01T00:00:00.000000000\",\"1959-11-01T00:00:00.000000000\",\"1959-12-01T00:00:00.000000000\",\"1960-01-01T00:00:00.000000000\",\"1960-02-01T00:00:00.000000000\",\"1960-03-01T00:00:00.000000000\",\"1960-04-01T00:00:00.000000000\",\"1960-05-01T00:00:00.000000000\",\"1960-06-01T00:00:00.000000000\",\"1960-07-01T00:00:00.000000000\",\"1960-08-01T00:00:00.000000000\",\"1960-09-01T00:00:00.000000000\",\"1960-10-01T00:00:00.000000000\",\"1960-11-01T00:00:00.000000000\",\"1960-12-01T00:00:00.000000000\"],\"xaxis\":\"x\",\"y\":{\"dtype\":\"f8\",\"bdata\":\"AAAAAAAA+H8AlV5OF7iqP0CLviC4s7w\\u002fABm0c5CKl7\\u002fA35+NvGOwv0CSe58oB7w\\u002fQDGzNzeJtz8AAAAAAAAAAMA4N5CNpbW\\u002fgOQngo4Xwb8gTmfq6j7Bv6Ca+o1kKsA\\u002fAHIzwtxemr8AhYj3smK3P0BxVmxby7w\\u002fgMRJO65Dpr+A674CuLOzv8CoN8Uge8Y\\u002fYGOA14fgwD8AAAAAAAAAAMBlPFJ1vbK\\u002foBABYCcMxr+g0kGgNbvDv+DYNPf8S8o\\u002fAP\\u002fsTX33oT8AH3ZPi1uhP0BzkKEv6MU\\u002fQC7\\u002fhFqJtr+AhJenXoSrPwDYZmJWjqE\\u002fgNR+gqiMvD8AAAAAAAAAAAB1R8T+D7S\\u002fQK1Mf6hMwL8AybTiEZ+6v4CTFkjLbsA\\u002fAFyvFlNjnj8AGcxbHUOqPwDFNkYL2rE\\u002fwM2vePZusL8ASjvudoGGP4DuXSSxZsY\\u002fgB908WRvqz+AA31NHQqqP8ApkRPnw8K\\u002fgCBh5TkOt7+ADdsYy9K6v4Cs434n0L4\\u002fAOJQJlwBhT8AAAAAAAAAAMCJv1WUxcc\\u002fADRxB49kcb8A5ZLQ9nuavwCFfTK9Ya4\\u002fQJUbLCA4tT8Ak6pxxpGeP+BP7QOHocG\\u002fwA6gLmq\\u002fvb+g1f+R4FbEv4CotzDFP7w\\u002fABZ6J19Xjj8ACQL42ei0vyCamsf3j8w\\u002fgP7kar67ob8AQX3gmRmfP4DNiM554b4\\u002f4K3SgZI2wT8AjNP5Avuev0Bk3hyCk7+\\u002fQGys7eCDv7+Ax+xfI9q+v4DH7F8j2r4\\u002fgOOaNTxFrD+AFaSQiGejv0CrkgNWb8E\\u002fAPj\\u002f9zqRfj8A4AglpmVuP6DSQaA1u8M\\u002fQPqtQKOBwj+A4tneDX2ovwC0FlHkN7u\\u002fQJmiJb+fwL+gtDpLlpHCv0ADbHN+bMQ\\u002fAPUS7ZfdlT8AOpLuQY6ZvyCSPD\\u002fjQ8E\\u002fAKIbAbcBir8Ai3wtgjqQP2CJD0Adw8Q\\u002fgFvnLaJkuT8AuFmrrAeUvyCIBdHQ3cC\\u002fwDKmfR4Dw7+AHsYIahi\\u002fv4AexghqGL8\\u002fAOhyq+iunT8AZbcj2Eanv4CawRoke8U\\u002fACRLHBNGl78AyGvPrWSUP2Dk76stIcY\\u002fwCDgWxjXuD8AmEVFVZRxP6BOyOyNjMK\\u002fACeCNrB3w79gAw2Df4PAv4A9ySnYx7g\\u002fAGx6BKo8iD8AzOIG+x+xv2ACRnF\\u002flsA\\u002fgA2E6rQxpL8A4NTsSJulPyBiZYwlKcc\\u002fAJz17EgAvz8A76PV\\u002fsmcPyCamsf3j8y\\u002fAHAwNE87vr+g1sj8tMjCv4D7Du3zYLU\\u002fgJkPRsLmsD+AGcxbHUOqv0BRVyMa9cU\\u002fADwxfpiJmb8AvY6OVyCuP0CEzVyk4b0\\u002f4PzhJSQcwz8AGC0P5lmUPyDz3c85Hsi\\u002fgKLp6D+AwL\\u002fARsotyf69v4D7o6Dyu7w\\u002fAH7lGWLmnT8AiAy3Hnuwv4CJAqGwtLE\\u002fAGp8LXd0uD8Ar+lEmiWYP8ButeptCcA\\u002f4D1jokNJwz8AZoIngK+av2Cu8DA6lMa\\u002fwM6pP3XauL+ggSygfWjFv4ByC1jyLro\\u002f\"},\"yaxis\":\"y\",\"type\":\"scatter\"}],                        {\"template\":{\"data\":{\"histogram2dcontour\":[{\"type\":\"histogram2dcontour\",\"colorbar\":{\"outlinewidth\":0,\"ticks\":\"\"},\"colorscale\":[[0.0,\"#0d0887\"],[0.1111111111111111,\"#46039f\"],[0.2222222222222222,\"#7201a8\"],[0.3333333333333333,\"#9c179e\"],[0.4444444444444444,\"#bd3786\"],[0.5555555555555556,\"#d8576b\"],[0.6666666666666666,\"#ed7953\"],[0.7777777777777778,\"#fb9f3a\"],[0.8888888888888888,\"#fdca26\"],[1.0,\"#f0f921\"]]}],\"choropleth\":[{\"type\":\"choropleth\",\"colorbar\":{\"outlinewidth\":0,\"ticks\":\"\"}}],\"histogram2d\":[{\"type\":\"histogram2d\",\"colorbar\":{\"outlinewidth\":0,\"ticks\":\"\"},\"colorscale\":[[0.0,\"#0d0887\"],[0.1111111111111111,\"#46039f\"],[0.2222222222222222,\"#7201a8\"],[0.3333333333333333,\"#9c179e\"],[0.4444444444444444,\"#bd3786\"],[0.5555555555555556,\"#d8576b\"],[0.6666666666666666,\"#ed7953\"],[0.7777777777777778,\"#fb9f3a\"],[0.8888888888888888,\"#fdca26\"],[1.0,\"#f0f921\"]]}],\"heatmap\":[{\"type\":\"heatmap\",\"colorbar\":{\"outlinewidth\":0,\"ticks\":\"\"},\"colorscale\":[[0.0,\"#0d0887\"],[0.1111111111111111,\"#46039f\"],[0.2222222222222222,\"#7201a8\"],[0.3333333333333333,\"#9c179e\"],[0.4444444444444444,\"#bd3786\"],[0.5555555555555556,\"#d8576b\"],[0.6666666666666666,\"#ed7953\"],[0.7777777777777778,\"#fb9f3a\"],[0.8888888888888888,\"#fdca26\"],[1.0,\"#f0f921\"]]}],\"contourcarpet\":[{\"type\":\"contourcarpet\",\"colorbar\":{\"outlinewidth\":0,\"ticks\":\"\"}}],\"contour\":[{\"type\":\"contour\",\"colorbar\":{\"outlinewidth\":0,\"ticks\":\"\"},\"colorscale\":[[0.0,\"#0d0887\"],[0.1111111111111111,\"#46039f\"],[0.2222222222222222,\"#7201a8\"],[0.3333333333333333,\"#9c179e\"],[0.4444444444444444,\"#bd3786\"],[0.5555555555555556,\"#d8576b\"],[0.6666666666666666,\"#ed7953\"],[0.7777777777777778,\"#fb9f3a\"],[0.8888888888888888,\"#fdca26\"],[1.0,\"#f0f921\"]]}],\"surface\":[{\"type\":\"surface\",\"colorbar\":{\"outlinewidth\":0,\"ticks\":\"\"},\"colorscale\":[[0.0,\"#0d0887\"],[0.1111111111111111,\"#46039f\"],[0.2222222222222222,\"#7201a8\"],[0.3333333333333333,\"#9c179e\"],[0.4444444444444444,\"#bd3786\"],[0.5555555555555556,\"#d8576b\"],[0.6666666666666666,\"#ed7953\"],[0.7777777777777778,\"#fb9f3a\"],[0.8888888888888888,\"#fdca26\"],[1.0,\"#f0f921\"]]}],\"mesh3d\":[{\"type\":\"mesh3d\",\"colorbar\":{\"outlinewidth\":0,\"ticks\":\"\"}}],\"scatter\":[{\"fillpattern\":{\"fillmode\":\"overlay\",\"size\":10,\"solidity\":0.2},\"type\":\"scatter\"}],\"parcoords\":[{\"type\":\"parcoords\",\"line\":{\"colorbar\":{\"outlinewidth\":0,\"ticks\":\"\"}}}],\"scatterpolargl\":[{\"type\":\"scatterpolargl\",\"marker\":{\"colorbar\":{\"outlinewidth\":0,\"ticks\":\"\"}}}],\"bar\":[{\"error_x\":{\"color\":\"#2a3f5f\"},\"error_y\":{\"color\":\"#2a3f5f\"},\"marker\":{\"line\":{\"color\":\"#E5ECF6\",\"width\":0.5},\"pattern\":{\"fillmode\":\"overlay\",\"size\":10,\"solidity\":0.2}},\"type\":\"bar\"}],\"scattergeo\":[{\"type\":\"scattergeo\",\"marker\":{\"colorbar\":{\"outlinewidth\":0,\"ticks\":\"\"}}}],\"scatterpolar\":[{\"type\":\"scatterpolar\",\"marker\":{\"colorbar\":{\"outlinewidth\":0,\"ticks\":\"\"}}}],\"histogram\":[{\"marker\":{\"pattern\":{\"fillmode\":\"overlay\",\"size\":10,\"solidity\":0.2}},\"type\":\"histogram\"}],\"scattergl\":[{\"type\":\"scattergl\",\"marker\":{\"colorbar\":{\"outlinewidth\":0,\"ticks\":\"\"}}}],\"scatter3d\":[{\"type\":\"scatter3d\",\"line\":{\"colorbar\":{\"outlinewidth\":0,\"ticks\":\"\"}},\"marker\":{\"colorbar\":{\"outlinewidth\":0,\"ticks\":\"\"}}}],\"scattermap\":[{\"type\":\"scattermap\",\"marker\":{\"colorbar\":{\"outlinewidth\":0,\"ticks\":\"\"}}}],\"scattermapbox\":[{\"type\":\"scattermapbox\",\"marker\":{\"colorbar\":{\"outlinewidth\":0,\"ticks\":\"\"}}}],\"scatterternary\":[{\"type\":\"scatterternary\",\"marker\":{\"colorbar\":{\"outlinewidth\":0,\"ticks\":\"\"}}}],\"scattercarpet\":[{\"type\":\"scattercarpet\",\"marker\":{\"colorbar\":{\"outlinewidth\":0,\"ticks\":\"\"}}}],\"carpet\":[{\"aaxis\":{\"endlinecolor\":\"#2a3f5f\",\"gridcolor\":\"white\",\"linecolor\":\"white\",\"minorgridcolor\":\"white\",\"startlinecolor\":\"#2a3f5f\"},\"baxis\":{\"endlinecolor\":\"#2a3f5f\",\"gridcolor\":\"white\",\"linecolor\":\"white\",\"minorgridcolor\":\"white\",\"startlinecolor\":\"#2a3f5f\"},\"type\":\"carpet\"}],\"table\":[{\"cells\":{\"fill\":{\"color\":\"#EBF0F8\"},\"line\":{\"color\":\"white\"}},\"header\":{\"fill\":{\"color\":\"#C8D4E3\"},\"line\":{\"color\":\"white\"}},\"type\":\"table\"}],\"barpolar\":[{\"marker\":{\"line\":{\"color\":\"#E5ECF6\",\"width\":0.5},\"pattern\":{\"fillmode\":\"overlay\",\"size\":10,\"solidity\":0.2}},\"type\":\"barpolar\"}],\"pie\":[{\"automargin\":true,\"type\":\"pie\"}]},\"layout\":{\"autotypenumbers\":\"strict\",\"colorway\":[\"#636efa\",\"#EF553B\",\"#00cc96\",\"#ab63fa\",\"#FFA15A\",\"#19d3f3\",\"#FF6692\",\"#B6E880\",\"#FF97FF\",\"#FECB52\"],\"font\":{\"color\":\"#2a3f5f\"},\"hovermode\":\"closest\",\"hoverlabel\":{\"align\":\"left\"},\"paper_bgcolor\":\"white\",\"plot_bgcolor\":\"#E5ECF6\",\"polar\":{\"bgcolor\":\"#E5ECF6\",\"angularaxis\":{\"gridcolor\":\"white\",\"linecolor\":\"white\",\"ticks\":\"\"},\"radialaxis\":{\"gridcolor\":\"white\",\"linecolor\":\"white\",\"ticks\":\"\"}},\"ternary\":{\"bgcolor\":\"#E5ECF6\",\"aaxis\":{\"gridcolor\":\"white\",\"linecolor\":\"white\",\"ticks\":\"\"},\"baxis\":{\"gridcolor\":\"white\",\"linecolor\":\"white\",\"ticks\":\"\"},\"caxis\":{\"gridcolor\":\"white\",\"linecolor\":\"white\",\"ticks\":\"\"}},\"coloraxis\":{\"colorbar\":{\"outlinewidth\":0,\"ticks\":\"\"}},\"colorscale\":{\"sequential\":[[0.0,\"#0d0887\"],[0.1111111111111111,\"#46039f\"],[0.2222222222222222,\"#7201a8\"],[0.3333333333333333,\"#9c179e\"],[0.4444444444444444,\"#bd3786\"],[0.5555555555555556,\"#d8576b\"],[0.6666666666666666,\"#ed7953\"],[0.7777777777777778,\"#fb9f3a\"],[0.8888888888888888,\"#fdca26\"],[1.0,\"#f0f921\"]],\"sequentialminus\":[[0.0,\"#0d0887\"],[0.1111111111111111,\"#46039f\"],[0.2222222222222222,\"#7201a8\"],[0.3333333333333333,\"#9c179e\"],[0.4444444444444444,\"#bd3786\"],[0.5555555555555556,\"#d8576b\"],[0.6666666666666666,\"#ed7953\"],[0.7777777777777778,\"#fb9f3a\"],[0.8888888888888888,\"#fdca26\"],[1.0,\"#f0f921\"]],\"diverging\":[[0,\"#8e0152\"],[0.1,\"#c51b7d\"],[0.2,\"#de77ae\"],[0.3,\"#f1b6da\"],[0.4,\"#fde0ef\"],[0.5,\"#f7f7f7\"],[0.6,\"#e6f5d0\"],[0.7,\"#b8e186\"],[0.8,\"#7fbc41\"],[0.9,\"#4d9221\"],[1,\"#276419\"]]},\"xaxis\":{\"gridcolor\":\"white\",\"linecolor\":\"white\",\"ticks\":\"\",\"title\":{\"standoff\":15},\"zerolinecolor\":\"white\",\"automargin\":true,\"zerolinewidth\":2},\"yaxis\":{\"gridcolor\":\"white\",\"linecolor\":\"white\",\"ticks\":\"\",\"title\":{\"standoff\":15},\"zerolinecolor\":\"white\",\"automargin\":true,\"zerolinewidth\":2},\"scene\":{\"xaxis\":{\"backgroundcolor\":\"#E5ECF6\",\"gridcolor\":\"white\",\"linecolor\":\"white\",\"showbackground\":true,\"ticks\":\"\",\"zerolinecolor\":\"white\",\"gridwidth\":2},\"yaxis\":{\"backgroundcolor\":\"#E5ECF6\",\"gridcolor\":\"white\",\"linecolor\":\"white\",\"showbackground\":true,\"ticks\":\"\",\"zerolinecolor\":\"white\",\"gridwidth\":2},\"zaxis\":{\"backgroundcolor\":\"#E5ECF6\",\"gridcolor\":\"white\",\"linecolor\":\"white\",\"showbackground\":true,\"ticks\":\"\",\"zerolinecolor\":\"white\",\"gridwidth\":2}},\"shapedefaults\":{\"line\":{\"color\":\"#2a3f5f\"}},\"annotationdefaults\":{\"arrowcolor\":\"#2a3f5f\",\"arrowhead\":0,\"arrowwidth\":1},\"geo\":{\"bgcolor\":\"white\",\"landcolor\":\"#E5ECF6\",\"subunitcolor\":\"white\",\"showland\":true,\"showlakes\":true,\"lakecolor\":\"white\"},\"title\":{\"x\":0.05},\"mapbox\":{\"style\":\"light\"}}},\"xaxis\":{\"anchor\":\"y\",\"domain\":[0.0,1.0],\"title\":{\"text\":\"Date\"}},\"yaxis\":{\"anchor\":\"x\",\"domain\":[0.0,1.0],\"title\":{\"text\":\"Passengers\\u003cbr\\u003eLog and Difference Transform\"}},\"legend\":{\"tracegroupgap\":0},\"title\":{\"text\":\"Airline Passengers\"}},                        {\"responsive\": true}                    ).then(function(){\n",
       "                            \n",
       "var gd = document.getElementById('1df1fb62-b0e8-40ad-b38a-d90090aa35d2');\n",
       "var x = new MutationObserver(function (mutations, observer) {{\n",
       "        var display = window.getComputedStyle(gd).display;\n",
       "        if (!display || display === 'none') {{\n",
       "            console.log([gd, 'removed!']);\n",
       "            Plotly.purge(gd);\n",
       "            observer.disconnect();\n",
       "        }}\n",
       "}});\n",
       "\n",
       "// Listen for the removal of the full notebook cells\n",
       "var notebookContainer = gd.closest('#notebook-container');\n",
       "if (notebookContainer) {{\n",
       "    x.observe(notebookContainer, {childList: true});\n",
       "}}\n",
       "\n",
       "// Listen for the clearing of the current output cell\n",
       "var outputEl = gd.closest('.output');\n",
       "if (outputEl) {{\n",
       "    x.observe(outputEl, {childList: true});\n",
       "}}\n",
       "\n",
       "                        })                };            </script>        </div>"
      ]
     },
     "metadata": {},
     "output_type": "display_data"
    }
   ],
   "source": [
    "df['Passengers_dif_log'] = df['Passenger_log'].diff()\n",
    "fig = px.line(df, x = 'Date', y = 'Passengers_dif_log',\n",
    "              labels = {'Date':'Date', 'Passengers_dif_log' : 'Passengers<br>Log and Difference Transform'},\n",
    "              title = 'Airline Passengers'\n",
    "             )\n",
    "fig.show()"
   ]
  },
  {
   "cell_type": "markdown",
   "id": "9fd9abfa-e1e3-4c17-bc1e-f60ad6d2ab3b",
   "metadata": {},
   "source": [
    "## Stationarity Test\n",
    "\n",
    "As we can observe now the time series now does not show the increasing trend and the variance also seems constant. However, we can use quantitative techniques to determine if the data is indeed stationary. One such technique is **Augmented Dicky-Fuller (ADF) test**. The test has a null hypothesis that the data has a unit root, which means it’s not stationary. "
   ]
  },
  {
   "cell_type": "code",
   "execution_count": 219,
   "id": "445385f4-7544-4b78-a7b2-4a3b34d3e192",
   "metadata": {},
   "outputs": [
    {
     "name": "stdout",
     "output_type": "stream",
     "text": [
      "ADF Statistic: -2.7171\n",
      "p-value: 0.0711\n",
      "Critical Values:\n",
      "1% : -3.4825\n",
      "5% : -2.8844\n",
      "10% : -2.5790\n"
     ]
    }
   ],
   "source": [
    "adf = adfuller(df['Passengers_dif_log'].dropna())\n",
    "print(f\"ADF Statistic: {adf[0]:.4f}\")\n",
    "print(f\"p-value: {adf[1]:.4f}\")\n",
    "print(\"Critical Values:\")\n",
    "for key, value in adf[4].items():\n",
    "    print(f\"{key} : {value:.4f}\")"
   ]
  },
  {
   "cell_type": "markdown",
   "id": "5d61814e-7fed-4a37-aa03-01ecbaa67467",
   "metadata": {},
   "source": [
    "With an ADF statistic of −2.71, which lies between the 10% and 5% critical values, and a p-value of 0.071, the null hypothesis of non-stationarity is rejected only at the 10% level, indicating weak evidence for stationarity.\n",
    "\n",
    "Another method to check the stationarity is **Kwiatkowski-Phillips-Schmidt-Shin (KPSS) test**. A key difference from the ADF test is the null hypothesis of the KPSS test is that the series is stationary."
   ]
  },
  {
   "cell_type": "code",
   "execution_count": 220,
   "id": "d2c46bcc-0bfc-4ad6-82b5-2846efda7c14",
   "metadata": {},
   "outputs": [
    {
     "name": "stdout",
     "output_type": "stream",
     "text": [
      "KPSS Statistic: 0.038304\n",
      "p_value: 0.100000\n",
      "critical values\n",
      "10% : 0.3470\n",
      "5% : 0.4630\n",
      "2.5% : 0.5740\n",
      "1% : 0.7390\n"
     ]
    },
    {
     "name": "stderr",
     "output_type": "stream",
     "text": [
      "C:\\Users\\arefe\\AppData\\Local\\Temp\\ipykernel_25188\\1597639557.py:1: InterpolationWarning:\n",
      "\n",
      "The test statistic is outside of the range of p-values available in the\n",
      "look-up table. The actual p-value is greater than the p-value returned.\n",
      "\n",
      "\n"
     ]
    }
   ],
   "source": [
    "stat, p_value, _, critical_values = kpss(df['Passengers_dif_log'].dropna())\n",
    "print(f\"KPSS Statistic: {stat:4f}\")\n",
    "print(f\"p_value: {p_value:4f}\")\n",
    "print(\"critical values\")\n",
    "for key, value in critical_values.items():\n",
    "    print(f\"{key} : {value:.4f}\")"
   ]
  },
  {
   "cell_type": "markdown",
   "id": "28a8ce53-150d-4cc9-b8ef-977d989fc8e6",
   "metadata": {},
   "source": [
    "As we can see, the test statistic is very small and lies below all critical values. In addition, the p-value is very large. Therefore, we conclude that the null hypothesis of a stationary series is not rejected at any conventional significance level."
   ]
  },
  {
   "cell_type": "markdown",
   "id": "e908cada-41f7-41da-be6b-4798c7c2b5d0",
   "metadata": {},
   "source": [
    "The next step is to select a model to be able to forecast the future of the time series. To do so, we first start with Auto Regressive models. To select the order of the AR model we first plot the Partial Autocorrelation"
   ]
  },
  {
   "cell_type": "code",
   "execution_count": 221,
   "id": "0df2d423-6b19-4a84-a201-0bb96ef6ad17",
   "metadata": {},
   "outputs": [
    {
     "data": {
      "image/png": "[encoded data removed]",
      "text/plain": [
       "<Figure size 1000x500 with 1 Axes>"
      ]
     },
     "metadata": {},
     "output_type": "display_data"
    }
   ],
   "source": [
    "plt.rc(\"figure\", figsize=(10, 5))\n",
    "plot_pacf(df['Passengers_dif_log'].dropna(), lags = 40)\n",
    "plt.xlabel('Lags', fontsize = 14)\n",
    "plt.ylabel('Correlation', fontsize = 14)\n",
    "plt.show()"
   ]
  },
  {
   "cell_type": "markdown",
   "id": "21776a96-fbd8-4b9a-a19c-f72e3987365d",
   "metadata": {},
   "source": [
    "From this plot it can be observed that lags 1, 2, 4, 7, 8, 9, 10, 11, 12 and 14 are significant. Here we use the statsmodels ar_select_order to determine the optimal number of lags to include in the autoregressive model. In this case, we have set our model to try combinations up to lag 15."
   ]
  },
  {
   "cell_type": "code",
   "execution_count": 222,
   "id": "0c70a9e6-6599-4ef9-83ea-f54cea5af937",
   "metadata": {},
   "outputs": [
    {
     "name": "stdout",
     "output_type": "stream",
     "text": [
      "Index(['Date', 'Passengers', 'Passenger_Diff', 'Passenger_log',\n",
      "       'Passengers_dif_log'],\n",
      "      dtype='object')\n"
     ]
    }
   ],
   "source": [
    "print(df.columns)\n"
   ]
  },
  {
   "cell_type": "code",
   "execution_count": null,
   "id": "8fbf0f60-9501-4f41-bc92-bb129c39258e",
   "metadata": {},
   "outputs": [],
   "source": [
    "# Split train and test\n",
    "df.set_index('Date', inplace=True)\n",
    "df = df.asfreq('MS') # Monthly Start"
   ]
  },
  {
   "cell_type": "code",
   "execution_count": 234,
   "id": "fc6d5c2a-c6be-4e7b-9597-15bb0c980f30",
   "metadata": {},
   "outputs": [],
   "source": [
    "\n",
    "train = df.iloc[:-int(len(df) * 0.2)]\n",
    "test = df.iloc[-int(len(df) * 0.2):]\n",
    "\n",
    "# Build AR model\n",
    "selector = ar_select_order(train['Passengers_dif_log'].dropna(), 15)\n",
    "model_AR = AutoReg(train['Passengers_dif_log'].dropna(), lags=selector.ar_lags).fit()\n",
    "#print(model_AR.summary())"
   ]
  },
  {
   "cell_type": "code",
   "execution_count": 235,
   "id": "f9de9503-c76b-4696-9440-045a55c0396c",
   "metadata": {},
   "outputs": [],
   "source": [
    "start = len(train)\n",
    "end = len(train) + len(test) - 1\n",
    "predictions_model_AR = model_AR.predict(start=start, end=end)\n"
   ]
  },
  {
   "cell_type": "code",
   "execution_count": 229,
   "id": "f990a570-f357-47a5-ba6c-32459d8dbdf7",
   "metadata": {},
   "outputs": [
    {
     "name": "stdout",
     "output_type": "stream",
     "text": [
      "MSE: 0.0143\n",
      "MAE: 0.0981\n"
     ]
    }
   ],
   "source": [
    "from sklearn.metrics import mean_squared_error, mean_absolute_error\n",
    "\n",
    "true_values = test['Passengers_dif_log'].dropna()\n",
    "mse_model_AR = mean_squared_error(true_values, predictions_model_AR)\n",
    "mae_model_AR = mean_absolute_error(true_values, predictions_model_AR)\n",
    "\n",
    "print(f\"MSE: {mse_model_AR:.4f}\")\n",
    "print(f\"MAE: {mae_model_AR:.4f}\")\n"
   ]
  },
  {
   "cell_type": "code",
   "execution_count": 190,
   "id": "60e8a1c1-ff85-4563-ad0e-095d571ad7c1",
   "metadata": {},
   "outputs": [
    {
     "data": {
      "image/png": "[encoded data removed]",
      "text/plain": [
       "<Figure size 1000x500 with 1 Axes>"
      ]
     },
     "metadata": {},
     "output_type": "display_data"
    }
   ],
   "source": [
    "plt.rc(\"figure\", figsize=(10, 5))\n",
    "plot_acf(diff_log_series, lags = 40)\n",
    "plt.xlabel('Lags', fontsize = 14)\n",
    "plt.ylabel('Correlation', fontsize = 14)\n",
    "plt.show()"
   ]
  },
  {
   "cell_type": "code",
   "execution_count": 237,
   "id": "6eb42419-53d1-42e3-9349-009f9ecec547",
   "metadata": {},
   "outputs": [
    {
     "ename": "NameError",
     "evalue": "name 'y' is not defined",
     "output_type": "error",
     "traceback": [
      "\u001b[31m---------------------------------------------------------------------------\u001b[39m",
      "\u001b[31mNameError\u001b[39m                                 Traceback (most recent call last)",
      "\u001b[36mCell\u001b[39m\u001b[36m \u001b[39m\u001b[32mIn[237]\u001b[39m\u001b[32m, line 3\u001b[39m\n\u001b[32m      1\u001b[39m \u001b[38;5;28;01mfrom\u001b[39;00m\u001b[38;5;250m \u001b[39m\u001b[34;01mstatsmodels\u001b[39;00m\u001b[34;01m.\u001b[39;00m\u001b[34;01mtsa\u001b[39;00m\u001b[34;01m.\u001b[39;00m\u001b[34;01marima\u001b[39;00m\u001b[34;01m.\u001b[39;00m\u001b[34;01mmodel\u001b[39;00m\u001b[38;5;250m \u001b[39m\u001b[38;5;28;01mimport\u001b[39;00m ARIMA\n\u001b[32m----> \u001b[39m\u001b[32m3\u001b[39m model_ma1 = ARIMA(\u001b[43my\u001b[49m, order=(\u001b[32m0\u001b[39m, \u001b[32m0\u001b[39m, \u001b[32m1\u001b[39m))\n\u001b[32m      4\u001b[39m result_ma1 = model_ma1.fit()\n",
      "\u001b[31mNameError\u001b[39m: name 'y' is not defined"
     ]
    }
   ],
   "source": [
    "from statsmodels.tsa.arima.model import ARIMA\n",
    "\n",
    "model_ma1 = ARIMA(y, order=(0, 0, 1))\n",
    "result_ma1 = model_ma1.fit()\n"
   ]
  },
  {
   "cell_type": "code",
   "execution_count": 142,
   "id": "3e7e9686-2cf7-43dd-9001-1ebbdc0a8603",
   "metadata": {},
   "outputs": [
    {
     "data": {
      "text/html": [
       "<div>\n",
       "<style scoped>\n",
       "    .dataframe tbody tr th:only-of-type {\n",
       "        vertical-align: middle;\n",
       "    }\n",
       "\n",
       "    .dataframe tbody tr th {\n",
       "        vertical-align: top;\n",
       "    }\n",
       "\n",
       "    .dataframe thead th {\n",
       "        text-align: right;\n",
       "    }\n",
       "</style>\n",
       "<table border=\"1\" class=\"dataframe\">\n",
       "  <thead>\n",
       "    <tr style=\"text-align: right;\">\n",
       "      <th></th>\n",
       "      <th>Passengers</th>\n",
       "      <th>Passenger_Diff</th>\n",
       "      <th>Passenger_log</th>\n",
       "      <th>Passengers_dif_log</th>\n",
       "    </tr>\n",
       "    <tr>\n",
       "      <th>Date</th>\n",
       "      <th></th>\n",
       "      <th></th>\n",
       "      <th></th>\n",
       "      <th></th>\n",
       "    </tr>\n",
       "  </thead>\n",
       "  <tbody>\n",
       "    <tr>\n",
       "      <th>1949-01-01</th>\n",
       "      <td>112</td>\n",
       "      <td>NaN</td>\n",
       "      <td>4.718499</td>\n",
       "      <td>NaN</td>\n",
       "    </tr>\n",
       "    <tr>\n",
       "      <th>1949-02-01</th>\n",
       "      <td>118</td>\n",
       "      <td>6.0</td>\n",
       "      <td>4.770685</td>\n",
       "      <td>0.052186</td>\n",
       "    </tr>\n",
       "    <tr>\n",
       "      <th>1949-03-01</th>\n",
       "      <td>132</td>\n",
       "      <td>14.0</td>\n",
       "      <td>4.882802</td>\n",
       "      <td>0.112117</td>\n",
       "    </tr>\n",
       "    <tr>\n",
       "      <th>1949-04-01</th>\n",
       "      <td>129</td>\n",
       "      <td>-3.0</td>\n",
       "      <td>4.859812</td>\n",
       "      <td>-0.022990</td>\n",
       "    </tr>\n",
       "    <tr>\n",
       "      <th>1949-05-01</th>\n",
       "      <td>121</td>\n",
       "      <td>-8.0</td>\n",
       "      <td>4.795791</td>\n",
       "      <td>-0.064022</td>\n",
       "    </tr>\n",
       "  </tbody>\n",
       "</table>\n",
       "</div>"
      ],
      "text/plain": [
       "            Passengers  Passenger_Diff  Passenger_log  Passengers_dif_log\n",
       "Date                                                                     \n",
       "1949-01-01         112             NaN       4.718499                 NaN\n",
       "1949-02-01         118             6.0       4.770685            0.052186\n",
       "1949-03-01         132            14.0       4.882802            0.112117\n",
       "1949-04-01         129            -3.0       4.859812           -0.022990\n",
       "1949-05-01         121            -8.0       4.795791           -0.064022"
      ]
     },
     "execution_count": 142,
     "metadata": {},
     "output_type": "execute_result"
    }
   ],
   "source": [
    "df.head()"
   ]
  },
  {
   "cell_type": "code",
   "execution_count": null,
   "id": "2a965b4c-2b32-4aeb-ba71-ee84fbeb13da",
   "metadata": {},
   "outputs": [],
   "source": []
  }
 ],
 "metadata": {
  "kernelspec": {
   "display_name": "Python 3 (ipykernel)",
   "language": "python",
   "name": "python3"
  },
  "language_info": {
   "codemirror_mode": {
    "name": "ipython",
    "version": 3
   },
   "file_extension": ".py",
   "mimetype": "text/x-python",
   "name": "python",
   "nbconvert_exporter": "python",
   "pygments_lexer": "ipython3",
   "version": "3.13.5"
  }
 },
 "nbformat": 4,
 "nbformat_minor": 5
}
